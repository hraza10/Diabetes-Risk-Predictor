{
  "nbformat": 4,
  "nbformat_minor": 0,
  "metadata": {
    "colab": {
      "provenance": []
    },
    "kernelspec": {
      "name": "python3",
      "display_name": "Python 3"
    },
    "language_info": {
      "name": "python"
    }
  },
  "cells": [
    {
      "cell_type": "markdown",
      "source": [
        "# **1. Introduction**\n",
        "\n",
        "Link to the dataset: https://www.kaggle.com/datasets/iammustafatz/diabetes-prediction-dataset?resource=download\n",
        "\n",
        "We acquired our dataset, diabetes_prediction_dataset.csv, from Kaggle. Our dataset initially contained 100,000 rows, but after cleaning and processing the data for the regression, the dataset was filtered down to 64,172 rows. The dataset is composed of individual cases with patient’s gender, age, presence of hypertension (yes or no), presence of heart disease (yes or no), patient’s smoking history (former, current, never, etc.), patient’s body mass index (bmi), Hb1Ac level (the average blood glucose levels for the last 2 or 3 months), current blood glucose level, and the actual presence of diabetes (yes or no).\n",
        "\n",
        "For this project, we identified three research questions that we were curious to answer:\n",
        "1. Can any of the features above (excluding the diabetes column, of course) predict the presence of diabetes?\n",
        "2. Does being a specific gender increase the chance of being diabetic?\n",
        "3. Which of the features above contributes most to predicting the presence of diabetes?\n",
        "\n",
        "In conducting our regression, we aimed to examine the relationship between the aforementioned features (gender, age, hypertension, etc.) and the presence of diabetes, which became our target outcome. We further split the data based on demographic categories, such as gender and age brackets, and conducted the regression again with them as features to analyze their impact on the presence of diabetes. Finally, we conducted an analysis on the accuracy of our regression models, determining how well the model predicted whether an individual would have diabetes or not using the features given.\n"
      ],
      "metadata": {
        "id": "IW69cBziZfoZ"
      }
    },
    {
      "cell_type": "markdown",
      "source": [
        "# **2. Data Wrangling**"
      ],
      "metadata": {
        "id": "m0u3hRJYsviL"
      }
    },
    {
      "cell_type": "markdown",
      "source": [
        "## Importing packages"
      ],
      "metadata": {
        "id": "3OaN8OYAap3K"
      }
    },
    {
      "cell_type": "code",
      "execution_count": null,
      "metadata": {
        "id": "GKfb6m24Yqvz"
      },
      "outputs": [],
      "source": [
        "import pandas as pd\n",
        "from sklearn.linear_model import LogisticRegression\n",
        "from sklearn.model_selection import train_test_split\n",
        "from sklearn.metrics import classification_report, confusion_matrix\n",
        "from sklearn.metrics import roc_auc_score, roc_curve, accuracy_score\n",
        "from sklearn.metrics import precision_score, recall_score\n",
        "from sklearn import preprocessing\n",
        "import numpy as np\n",
        "import matplotlib.pyplot as plt\n",
        "import seaborn as sns\n",
        "%matplotlib inline"
      ]
    },
    {
      "cell_type": "markdown",
      "source": [
        "## Reading the dataset\n",
        "\n",
        "The diabetes_prediction_dataset.csv that we utilized required preprocessing before it could be used to conduct a logistic regression. We read the csv data into the google colab using the “upload” method from the “files” module in the “google.colab” package. This way, users can download the dataset from Kaggle and then upload it using response from the code."
      ],
      "metadata": {
        "id": "KlgaQFNG5p6S"
      }
    },
    {
      "cell_type": "code",
      "source": [
        "# Reading the data\n",
        "from google.colab import files\n",
        "uploaded = files.upload()\n",
        "new_diabetes_df = pd.read_csv(\"diabetes_prediction_dataset.csv\")\n",
        "new_diabetes_df.head()"
      ],
      "metadata": {
        "colab": {
          "base_uri": "https://localhost:8080/",
          "height": 263
        },
        "id": "TZRUgUZV51Qa",
        "outputId": "740db49b-7307-42b4-fe09-a31d0d03dcd7"
      },
      "execution_count": null,
      "outputs": [
        {
          "output_type": "display_data",
          "data": {
            "text/plain": [
              "<IPython.core.display.HTML object>"
            ],
            "text/html": [
              "\n",
              "     <input type=\"file\" id=\"files-0d280461-18bf-4c80-aeee-5583fb81558e\" name=\"files[]\" multiple disabled\n",
              "        style=\"border:none\" />\n",
              "     <output id=\"result-0d280461-18bf-4c80-aeee-5583fb81558e\">\n",
              "      Upload widget is only available when the cell has been executed in the\n",
              "      current browser session. Please rerun this cell to enable.\n",
              "      </output>\n",
              "      <script>// Copyright 2017 Google LLC\n",
              "//\n",
              "// Licensed under the Apache License, Version 2.0 (the \"License\");\n",
              "// you may not use this file except in compliance with the License.\n",
              "// You may obtain a copy of the License at\n",
              "//\n",
              "//      http://www.apache.org/licenses/LICENSE-2.0\n",
              "//\n",
              "// Unless required by applicable law or agreed to in writing, software\n",
              "// distributed under the License is distributed on an \"AS IS\" BASIS,\n",
              "// WITHOUT WARRANTIES OR CONDITIONS OF ANY KIND, either express or implied.\n",
              "// See the License for the specific language governing permissions and\n",
              "// limitations under the License.\n",
              "\n",
              "/**\n",
              " * @fileoverview Helpers for google.colab Python module.\n",
              " */\n",
              "(function(scope) {\n",
              "function span(text, styleAttributes = {}) {\n",
              "  const element = document.createElement('span');\n",
              "  element.textContent = text;\n",
              "  for (const key of Object.keys(styleAttributes)) {\n",
              "    element.style[key] = styleAttributes[key];\n",
              "  }\n",
              "  return element;\n",
              "}\n",
              "\n",
              "// Max number of bytes which will be uploaded at a time.\n",
              "const MAX_PAYLOAD_SIZE = 100 * 1024;\n",
              "\n",
              "function _uploadFiles(inputId, outputId) {\n",
              "  const steps = uploadFilesStep(inputId, outputId);\n",
              "  const outputElement = document.getElementById(outputId);\n",
              "  // Cache steps on the outputElement to make it available for the next call\n",
              "  // to uploadFilesContinue from Python.\n",
              "  outputElement.steps = steps;\n",
              "\n",
              "  return _uploadFilesContinue(outputId);\n",
              "}\n",
              "\n",
              "// This is roughly an async generator (not supported in the browser yet),\n",
              "// where there are multiple asynchronous steps and the Python side is going\n",
              "// to poll for completion of each step.\n",
              "// This uses a Promise to block the python side on completion of each step,\n",
              "// then passes the result of the previous step as the input to the next step.\n",
              "function _uploadFilesContinue(outputId) {\n",
              "  const outputElement = document.getElementById(outputId);\n",
              "  const steps = outputElement.steps;\n",
              "\n",
              "  const next = steps.next(outputElement.lastPromiseValue);\n",
              "  return Promise.resolve(next.value.promise).then((value) => {\n",
              "    // Cache the last promise value to make it available to the next\n",
              "    // step of the generator.\n",
              "    outputElement.lastPromiseValue = value;\n",
              "    return next.value.response;\n",
              "  });\n",
              "}\n",
              "\n",
              "/**\n",
              " * Generator function which is called between each async step of the upload\n",
              " * process.\n",
              " * @param {string} inputId Element ID of the input file picker element.\n",
              " * @param {string} outputId Element ID of the output display.\n",
              " * @return {!Iterable<!Object>} Iterable of next steps.\n",
              " */\n",
              "function* uploadFilesStep(inputId, outputId) {\n",
              "  const inputElement = document.getElementById(inputId);\n",
              "  inputElement.disabled = false;\n",
              "\n",
              "  const outputElement = document.getElementById(outputId);\n",
              "  outputElement.innerHTML = '';\n",
              "\n",
              "  const pickedPromise = new Promise((resolve) => {\n",
              "    inputElement.addEventListener('change', (e) => {\n",
              "      resolve(e.target.files);\n",
              "    });\n",
              "  });\n",
              "\n",
              "  const cancel = document.createElement('button');\n",
              "  inputElement.parentElement.appendChild(cancel);\n",
              "  cancel.textContent = 'Cancel upload';\n",
              "  const cancelPromise = new Promise((resolve) => {\n",
              "    cancel.onclick = () => {\n",
              "      resolve(null);\n",
              "    };\n",
              "  });\n",
              "\n",
              "  // Wait for the user to pick the files.\n",
              "  const files = yield {\n",
              "    promise: Promise.race([pickedPromise, cancelPromise]),\n",
              "    response: {\n",
              "      action: 'starting',\n",
              "    }\n",
              "  };\n",
              "\n",
              "  cancel.remove();\n",
              "\n",
              "  // Disable the input element since further picks are not allowed.\n",
              "  inputElement.disabled = true;\n",
              "\n",
              "  if (!files) {\n",
              "    return {\n",
              "      response: {\n",
              "        action: 'complete',\n",
              "      }\n",
              "    };\n",
              "  }\n",
              "\n",
              "  for (const file of files) {\n",
              "    const li = document.createElement('li');\n",
              "    li.append(span(file.name, {fontWeight: 'bold'}));\n",
              "    li.append(span(\n",
              "        `(${file.type || 'n/a'}) - ${file.size} bytes, ` +\n",
              "        `last modified: ${\n",
              "            file.lastModifiedDate ? file.lastModifiedDate.toLocaleDateString() :\n",
              "                                    'n/a'} - `));\n",
              "    const percent = span('0% done');\n",
              "    li.appendChild(percent);\n",
              "\n",
              "    outputElement.appendChild(li);\n",
              "\n",
              "    const fileDataPromise = new Promise((resolve) => {\n",
              "      const reader = new FileReader();\n",
              "      reader.onload = (e) => {\n",
              "        resolve(e.target.result);\n",
              "      };\n",
              "      reader.readAsArrayBuffer(file);\n",
              "    });\n",
              "    // Wait for the data to be ready.\n",
              "    let fileData = yield {\n",
              "      promise: fileDataPromise,\n",
              "      response: {\n",
              "        action: 'continue',\n",
              "      }\n",
              "    };\n",
              "\n",
              "    // Use a chunked sending to avoid message size limits. See b/62115660.\n",
              "    let position = 0;\n",
              "    do {\n",
              "      const length = Math.min(fileData.byteLength - position, MAX_PAYLOAD_SIZE);\n",
              "      const chunk = new Uint8Array(fileData, position, length);\n",
              "      position += length;\n",
              "\n",
              "      const base64 = btoa(String.fromCharCode.apply(null, chunk));\n",
              "      yield {\n",
              "        response: {\n",
              "          action: 'append',\n",
              "          file: file.name,\n",
              "          data: base64,\n",
              "        },\n",
              "      };\n",
              "\n",
              "      let percentDone = fileData.byteLength === 0 ?\n",
              "          100 :\n",
              "          Math.round((position / fileData.byteLength) * 100);\n",
              "      percent.textContent = `${percentDone}% done`;\n",
              "\n",
              "    } while (position < fileData.byteLength);\n",
              "  }\n",
              "\n",
              "  // All done.\n",
              "  yield {\n",
              "    response: {\n",
              "      action: 'complete',\n",
              "    }\n",
              "  };\n",
              "}\n",
              "\n",
              "scope.google = scope.google || {};\n",
              "scope.google.colab = scope.google.colab || {};\n",
              "scope.google.colab._files = {\n",
              "  _uploadFiles,\n",
              "  _uploadFilesContinue,\n",
              "};\n",
              "})(self);\n",
              "</script> "
            ]
          },
          "metadata": {}
        },
        {
          "output_type": "stream",
          "name": "stdout",
          "text": [
            "Saving diabetes_prediction_dataset.csv to diabetes_prediction_dataset.csv\n"
          ]
        },
        {
          "output_type": "execute_result",
          "data": {
            "text/plain": [
              "   gender   age  hypertension  heart_disease smoking_history    bmi  \\\n",
              "0  Female  80.0             0              1           never  25.19   \n",
              "1  Female  54.0             0              0         No Info  27.32   \n",
              "2    Male  28.0             0              0           never  27.32   \n",
              "3  Female  36.0             0              0         current  23.45   \n",
              "4    Male  76.0             1              1         current  20.14   \n",
              "\n",
              "   HbA1c_level  blood_glucose_level  diabetes  \n",
              "0          6.6                  140         0  \n",
              "1          6.6                   80         0  \n",
              "2          5.7                  158         0  \n",
              "3          5.0                  155         0  \n",
              "4          4.8                  155         0  "
            ],
            "text/html": [
              "\n",
              "  <div id=\"df-dde39eca-150c-4a36-9d19-fb08f4c5b96d\" class=\"colab-df-container\">\n",
              "    <div>\n",
              "<style scoped>\n",
              "    .dataframe tbody tr th:only-of-type {\n",
              "        vertical-align: middle;\n",
              "    }\n",
              "\n",
              "    .dataframe tbody tr th {\n",
              "        vertical-align: top;\n",
              "    }\n",
              "\n",
              "    .dataframe thead th {\n",
              "        text-align: right;\n",
              "    }\n",
              "</style>\n",
              "<table border=\"1\" class=\"dataframe\">\n",
              "  <thead>\n",
              "    <tr style=\"text-align: right;\">\n",
              "      <th></th>\n",
              "      <th>gender</th>\n",
              "      <th>age</th>\n",
              "      <th>hypertension</th>\n",
              "      <th>heart_disease</th>\n",
              "      <th>smoking_history</th>\n",
              "      <th>bmi</th>\n",
              "      <th>HbA1c_level</th>\n",
              "      <th>blood_glucose_level</th>\n",
              "      <th>diabetes</th>\n",
              "    </tr>\n",
              "  </thead>\n",
              "  <tbody>\n",
              "    <tr>\n",
              "      <th>0</th>\n",
              "      <td>Female</td>\n",
              "      <td>80.0</td>\n",
              "      <td>0</td>\n",
              "      <td>1</td>\n",
              "      <td>never</td>\n",
              "      <td>25.19</td>\n",
              "      <td>6.6</td>\n",
              "      <td>140</td>\n",
              "      <td>0</td>\n",
              "    </tr>\n",
              "    <tr>\n",
              "      <th>1</th>\n",
              "      <td>Female</td>\n",
              "      <td>54.0</td>\n",
              "      <td>0</td>\n",
              "      <td>0</td>\n",
              "      <td>No Info</td>\n",
              "      <td>27.32</td>\n",
              "      <td>6.6</td>\n",
              "      <td>80</td>\n",
              "      <td>0</td>\n",
              "    </tr>\n",
              "    <tr>\n",
              "      <th>2</th>\n",
              "      <td>Male</td>\n",
              "      <td>28.0</td>\n",
              "      <td>0</td>\n",
              "      <td>0</td>\n",
              "      <td>never</td>\n",
              "      <td>27.32</td>\n",
              "      <td>5.7</td>\n",
              "      <td>158</td>\n",
              "      <td>0</td>\n",
              "    </tr>\n",
              "    <tr>\n",
              "      <th>3</th>\n",
              "      <td>Female</td>\n",
              "      <td>36.0</td>\n",
              "      <td>0</td>\n",
              "      <td>0</td>\n",
              "      <td>current</td>\n",
              "      <td>23.45</td>\n",
              "      <td>5.0</td>\n",
              "      <td>155</td>\n",
              "      <td>0</td>\n",
              "    </tr>\n",
              "    <tr>\n",
              "      <th>4</th>\n",
              "      <td>Male</td>\n",
              "      <td>76.0</td>\n",
              "      <td>1</td>\n",
              "      <td>1</td>\n",
              "      <td>current</td>\n",
              "      <td>20.14</td>\n",
              "      <td>4.8</td>\n",
              "      <td>155</td>\n",
              "      <td>0</td>\n",
              "    </tr>\n",
              "  </tbody>\n",
              "</table>\n",
              "</div>\n",
              "    <div class=\"colab-df-buttons\">\n",
              "\n",
              "  <div class=\"colab-df-container\">\n",
              "    <button class=\"colab-df-convert\" onclick=\"convertToInteractive('df-dde39eca-150c-4a36-9d19-fb08f4c5b96d')\"\n",
              "            title=\"Convert this dataframe to an interactive table.\"\n",
              "            style=\"display:none;\">\n",
              "\n",
              "  <svg xmlns=\"http://www.w3.org/2000/svg\" height=\"24px\" viewBox=\"0 -960 960 960\">\n",
              "    <path d=\"M120-120v-720h720v720H120Zm60-500h600v-160H180v160Zm220 220h160v-160H400v160Zm0 220h160v-160H400v160ZM180-400h160v-160H180v160Zm440 0h160v-160H620v160ZM180-180h160v-160H180v160Zm440 0h160v-160H620v160Z\"/>\n",
              "  </svg>\n",
              "    </button>\n",
              "\n",
              "  <style>\n",
              "    .colab-df-container {\n",
              "      display:flex;\n",
              "      gap: 12px;\n",
              "    }\n",
              "\n",
              "    .colab-df-convert {\n",
              "      background-color: #E8F0FE;\n",
              "      border: none;\n",
              "      border-radius: 50%;\n",
              "      cursor: pointer;\n",
              "      display: none;\n",
              "      fill: #1967D2;\n",
              "      height: 32px;\n",
              "      padding: 0 0 0 0;\n",
              "      width: 32px;\n",
              "    }\n",
              "\n",
              "    .colab-df-convert:hover {\n",
              "      background-color: #E2EBFA;\n",
              "      box-shadow: 0px 1px 2px rgba(60, 64, 67, 0.3), 0px 1px 3px 1px rgba(60, 64, 67, 0.15);\n",
              "      fill: #174EA6;\n",
              "    }\n",
              "\n",
              "    .colab-df-buttons div {\n",
              "      margin-bottom: 4px;\n",
              "    }\n",
              "\n",
              "    [theme=dark] .colab-df-convert {\n",
              "      background-color: #3B4455;\n",
              "      fill: #D2E3FC;\n",
              "    }\n",
              "\n",
              "    [theme=dark] .colab-df-convert:hover {\n",
              "      background-color: #434B5C;\n",
              "      box-shadow: 0px 1px 3px 1px rgba(0, 0, 0, 0.15);\n",
              "      filter: drop-shadow(0px 1px 2px rgba(0, 0, 0, 0.3));\n",
              "      fill: #FFFFFF;\n",
              "    }\n",
              "  </style>\n",
              "\n",
              "    <script>\n",
              "      const buttonEl =\n",
              "        document.querySelector('#df-dde39eca-150c-4a36-9d19-fb08f4c5b96d button.colab-df-convert');\n",
              "      buttonEl.style.display =\n",
              "        google.colab.kernel.accessAllowed ? 'block' : 'none';\n",
              "\n",
              "      async function convertToInteractive(key) {\n",
              "        const element = document.querySelector('#df-dde39eca-150c-4a36-9d19-fb08f4c5b96d');\n",
              "        const dataTable =\n",
              "          await google.colab.kernel.invokeFunction('convertToInteractive',\n",
              "                                                    [key], {});\n",
              "        if (!dataTable) return;\n",
              "\n",
              "        const docLinkHtml = 'Like what you see? Visit the ' +\n",
              "          '<a target=\"_blank\" href=https://colab.research.google.com/notebooks/data_table.ipynb>data table notebook</a>'\n",
              "          + ' to learn more about interactive tables.';\n",
              "        element.innerHTML = '';\n",
              "        dataTable['output_type'] = 'display_data';\n",
              "        await google.colab.output.renderOutput(dataTable, element);\n",
              "        const docLink = document.createElement('div');\n",
              "        docLink.innerHTML = docLinkHtml;\n",
              "        element.appendChild(docLink);\n",
              "      }\n",
              "    </script>\n",
              "  </div>\n",
              "\n",
              "\n",
              "<div id=\"df-be88f9b6-830d-448f-92b5-bb69a74955ab\">\n",
              "  <button class=\"colab-df-quickchart\" onclick=\"quickchart('df-be88f9b6-830d-448f-92b5-bb69a74955ab')\"\n",
              "            title=\"Suggest charts\"\n",
              "            style=\"display:none;\">\n",
              "\n",
              "<svg xmlns=\"http://www.w3.org/2000/svg\" height=\"24px\"viewBox=\"0 0 24 24\"\n",
              "     width=\"24px\">\n",
              "    <g>\n",
              "        <path d=\"M19 3H5c-1.1 0-2 .9-2 2v14c0 1.1.9 2 2 2h14c1.1 0 2-.9 2-2V5c0-1.1-.9-2-2-2zM9 17H7v-7h2v7zm4 0h-2V7h2v10zm4 0h-2v-4h2v4z\"/>\n",
              "    </g>\n",
              "</svg>\n",
              "  </button>\n",
              "\n",
              "<style>\n",
              "  .colab-df-quickchart {\n",
              "      --bg-color: #E8F0FE;\n",
              "      --fill-color: #1967D2;\n",
              "      --hover-bg-color: #E2EBFA;\n",
              "      --hover-fill-color: #174EA6;\n",
              "      --disabled-fill-color: #AAA;\n",
              "      --disabled-bg-color: #DDD;\n",
              "  }\n",
              "\n",
              "  [theme=dark] .colab-df-quickchart {\n",
              "      --bg-color: #3B4455;\n",
              "      --fill-color: #D2E3FC;\n",
              "      --hover-bg-color: #434B5C;\n",
              "      --hover-fill-color: #FFFFFF;\n",
              "      --disabled-bg-color: #3B4455;\n",
              "      --disabled-fill-color: #666;\n",
              "  }\n",
              "\n",
              "  .colab-df-quickchart {\n",
              "    background-color: var(--bg-color);\n",
              "    border: none;\n",
              "    border-radius: 50%;\n",
              "    cursor: pointer;\n",
              "    display: none;\n",
              "    fill: var(--fill-color);\n",
              "    height: 32px;\n",
              "    padding: 0;\n",
              "    width: 32px;\n",
              "  }\n",
              "\n",
              "  .colab-df-quickchart:hover {\n",
              "    background-color: var(--hover-bg-color);\n",
              "    box-shadow: 0 1px 2px rgba(60, 64, 67, 0.3), 0 1px 3px 1px rgba(60, 64, 67, 0.15);\n",
              "    fill: var(--button-hover-fill-color);\n",
              "  }\n",
              "\n",
              "  .colab-df-quickchart-complete:disabled,\n",
              "  .colab-df-quickchart-complete:disabled:hover {\n",
              "    background-color: var(--disabled-bg-color);\n",
              "    fill: var(--disabled-fill-color);\n",
              "    box-shadow: none;\n",
              "  }\n",
              "\n",
              "  .colab-df-spinner {\n",
              "    border: 2px solid var(--fill-color);\n",
              "    border-color: transparent;\n",
              "    border-bottom-color: var(--fill-color);\n",
              "    animation:\n",
              "      spin 1s steps(1) infinite;\n",
              "  }\n",
              "\n",
              "  @keyframes spin {\n",
              "    0% {\n",
              "      border-color: transparent;\n",
              "      border-bottom-color: var(--fill-color);\n",
              "      border-left-color: var(--fill-color);\n",
              "    }\n",
              "    20% {\n",
              "      border-color: transparent;\n",
              "      border-left-color: var(--fill-color);\n",
              "      border-top-color: var(--fill-color);\n",
              "    }\n",
              "    30% {\n",
              "      border-color: transparent;\n",
              "      border-left-color: var(--fill-color);\n",
              "      border-top-color: var(--fill-color);\n",
              "      border-right-color: var(--fill-color);\n",
              "    }\n",
              "    40% {\n",
              "      border-color: transparent;\n",
              "      border-right-color: var(--fill-color);\n",
              "      border-top-color: var(--fill-color);\n",
              "    }\n",
              "    60% {\n",
              "      border-color: transparent;\n",
              "      border-right-color: var(--fill-color);\n",
              "    }\n",
              "    80% {\n",
              "      border-color: transparent;\n",
              "      border-right-color: var(--fill-color);\n",
              "      border-bottom-color: var(--fill-color);\n",
              "    }\n",
              "    90% {\n",
              "      border-color: transparent;\n",
              "      border-bottom-color: var(--fill-color);\n",
              "    }\n",
              "  }\n",
              "</style>\n",
              "\n",
              "  <script>\n",
              "    async function quickchart(key) {\n",
              "      const quickchartButtonEl =\n",
              "        document.querySelector('#' + key + ' button');\n",
              "      quickchartButtonEl.disabled = true;  // To prevent multiple clicks.\n",
              "      quickchartButtonEl.classList.add('colab-df-spinner');\n",
              "      try {\n",
              "        const charts = await google.colab.kernel.invokeFunction(\n",
              "            'suggestCharts', [key], {});\n",
              "      } catch (error) {\n",
              "        console.error('Error during call to suggestCharts:', error);\n",
              "      }\n",
              "      quickchartButtonEl.classList.remove('colab-df-spinner');\n",
              "      quickchartButtonEl.classList.add('colab-df-quickchart-complete');\n",
              "    }\n",
              "    (() => {\n",
              "      let quickchartButtonEl =\n",
              "        document.querySelector('#df-be88f9b6-830d-448f-92b5-bb69a74955ab button');\n",
              "      quickchartButtonEl.style.display =\n",
              "        google.colab.kernel.accessAllowed ? 'block' : 'none';\n",
              "    })();\n",
              "  </script>\n",
              "</div>\n",
              "    </div>\n",
              "  </div>\n"
            ],
            "application/vnd.google.colaboratory.intrinsic+json": {
              "type": "dataframe",
              "variable_name": "new_diabetes_df",
              "summary": "{\n  \"name\": \"new_diabetes_df\",\n  \"rows\": 100000,\n  \"fields\": [\n    {\n      \"column\": \"gender\",\n      \"properties\": {\n        \"dtype\": \"category\",\n        \"num_unique_values\": 3,\n        \"samples\": [\n          \"Female\",\n          \"Male\",\n          \"Other\"\n        ],\n        \"semantic_type\": \"\",\n        \"description\": \"\"\n      }\n    },\n    {\n      \"column\": \"age\",\n      \"properties\": {\n        \"dtype\": \"number\",\n        \"std\": 22.516839871617023,\n        \"min\": 0.08,\n        \"max\": 80.0,\n        \"num_unique_values\": 102,\n        \"samples\": [\n          29.0,\n          39.0,\n          16.0\n        ],\n        \"semantic_type\": \"\",\n        \"description\": \"\"\n      }\n    },\n    {\n      \"column\": \"hypertension\",\n      \"properties\": {\n        \"dtype\": \"number\",\n        \"std\": 0,\n        \"min\": 0,\n        \"max\": 1,\n        \"num_unique_values\": 2,\n        \"samples\": [\n          1,\n          0\n        ],\n        \"semantic_type\": \"\",\n        \"description\": \"\"\n      }\n    },\n    {\n      \"column\": \"heart_disease\",\n      \"properties\": {\n        \"dtype\": \"number\",\n        \"std\": 0,\n        \"min\": 0,\n        \"max\": 1,\n        \"num_unique_values\": 2,\n        \"samples\": [\n          0,\n          1\n        ],\n        \"semantic_type\": \"\",\n        \"description\": \"\"\n      }\n    },\n    {\n      \"column\": \"smoking_history\",\n      \"properties\": {\n        \"dtype\": \"category\",\n        \"num_unique_values\": 6,\n        \"samples\": [\n          \"never\",\n          \"No Info\"\n        ],\n        \"semantic_type\": \"\",\n        \"description\": \"\"\n      }\n    },\n    {\n      \"column\": \"bmi\",\n      \"properties\": {\n        \"dtype\": \"number\",\n        \"std\": 6.636783416648369,\n        \"min\": 10.01,\n        \"max\": 95.69,\n        \"num_unique_values\": 4247,\n        \"samples\": [\n          53.27,\n          32.33\n        ],\n        \"semantic_type\": \"\",\n        \"description\": \"\"\n      }\n    },\n    {\n      \"column\": \"HbA1c_level\",\n      \"properties\": {\n        \"dtype\": \"number\",\n        \"std\": 1.0706720918835437,\n        \"min\": 3.5,\n        \"max\": 9.0,\n        \"num_unique_values\": 18,\n        \"samples\": [\n          6.6,\n          5.7\n        ],\n        \"semantic_type\": \"\",\n        \"description\": \"\"\n      }\n    },\n    {\n      \"column\": \"blood_glucose_level\",\n      \"properties\": {\n        \"dtype\": \"number\",\n        \"std\": 40,\n        \"min\": 80,\n        \"max\": 300,\n        \"num_unique_values\": 18,\n        \"samples\": [\n          140,\n          80\n        ],\n        \"semantic_type\": \"\",\n        \"description\": \"\"\n      }\n    },\n    {\n      \"column\": \"diabetes\",\n      \"properties\": {\n        \"dtype\": \"number\",\n        \"std\": 0,\n        \"min\": 0,\n        \"max\": 1,\n        \"num_unique_values\": 2,\n        \"samples\": [\n          1,\n          0\n        ],\n        \"semantic_type\": \"\",\n        \"description\": \"\"\n      }\n    }\n  ]\n}"
            }
          },
          "metadata": {},
          "execution_count": 2
        }
      ]
    },
    {
      "cell_type": "markdown",
      "source": [
        "## Data Cleaning\n",
        "\n",
        "While examining the dataset, we realized that it contained no null values. However, in the “smoking_history” column, there were a lot of values stating “No Info.” Since “No Info” means that no information was collected for such cases, we chose to treat it as a null value. We believed “No Info” would end up negatively impacting the integrity of the regression. Therefore, we removed all rows where the “smoking_history” had “No Info” as a value. We further chose to drop the rows with “Other” value in the gender column for similar reasons, since it would be introducing ambiguity and impacting the regression conducted for the demographic split based on the gender variable. Therefore, all rows containing “Other” as a value in the “gender” column were dropped.\n",
        "\n",
        "After these rows were dropped, we saw that both “smoking_history” and “gender” columns had string values and, therefore, needed to be encoded to be used as features for the logistic regression. We used the “get_dummies” method in pandas to create separate columns in the DataFrame for each categorical string value. The “gender” column was split into “gender_Female” and “gender_Male” columns with binary values (0 or 1) to indicate no or yes. Similarly, the “smoking_history” column was split into “smoking_history_current,” “smoking_history_ever,” “smoking_history_former,” “smoking_history_never,” and “smoking_history_not current” columns with binary values (0 or 1) to indicate no or yes.\n"
      ],
      "metadata": {
        "id": "0rnkZAj8tFrU"
      }
    },
    {
      "cell_type": "code",
      "source": [
        "# Removing all rows that had 'gender' as 'Other' and/or 'smoking history' as 'No Info'\n",
        "clean_diabetes_df = new_diabetes_df[(new_diabetes_df['gender'] != 'Other') & (new_diabetes_df['smoking_history'] != 'No Info')]\n",
        "\n",
        "# Encoding columns with string values to prepare for logistic regression\n",
        "diabetes_df = pd.get_dummies(clean_diabetes_df, columns=['gender', 'smoking_history'])\n",
        "diabetes_df.head()\n"
      ],
      "metadata": {
        "colab": {
          "base_uri": "https://localhost:8080/",
          "height": 244
        },
        "id": "-wo4vi92ldyF",
        "outputId": "2f6546b6-dd59-41d2-90b9-4be07c329374"
      },
      "execution_count": null,
      "outputs": [
        {
          "output_type": "execute_result",
          "data": {
            "text/plain": [
              "    age  hypertension  heart_disease    bmi  HbA1c_level  blood_glucose_level  \\\n",
              "0  80.0             0              1  25.19          6.6                  140   \n",
              "2  28.0             0              0  27.32          5.7                  158   \n",
              "3  36.0             0              0  23.45          5.0                  155   \n",
              "4  76.0             1              1  20.14          4.8                  155   \n",
              "5  20.0             0              0  27.32          6.6                   85   \n",
              "\n",
              "   diabetes  gender_Female  gender_Male  smoking_history_current  \\\n",
              "0         0           True        False                    False   \n",
              "2         0          False         True                    False   \n",
              "3         0           True        False                     True   \n",
              "4         0          False         True                     True   \n",
              "5         0           True        False                    False   \n",
              "\n",
              "   smoking_history_ever  smoking_history_former  smoking_history_never  \\\n",
              "0                 False                   False                   True   \n",
              "2                 False                   False                   True   \n",
              "3                 False                   False                  False   \n",
              "4                 False                   False                  False   \n",
              "5                 False                   False                   True   \n",
              "\n",
              "   smoking_history_not current  \n",
              "0                        False  \n",
              "2                        False  \n",
              "3                        False  \n",
              "4                        False  \n",
              "5                        False  "
            ],
            "text/html": [
              "\n",
              "  <div id=\"df-ee8d80e2-0fbe-4e0b-be6b-388b49b460fc\" class=\"colab-df-container\">\n",
              "    <div>\n",
              "<style scoped>\n",
              "    .dataframe tbody tr th:only-of-type {\n",
              "        vertical-align: middle;\n",
              "    }\n",
              "\n",
              "    .dataframe tbody tr th {\n",
              "        vertical-align: top;\n",
              "    }\n",
              "\n",
              "    .dataframe thead th {\n",
              "        text-align: right;\n",
              "    }\n",
              "</style>\n",
              "<table border=\"1\" class=\"dataframe\">\n",
              "  <thead>\n",
              "    <tr style=\"text-align: right;\">\n",
              "      <th></th>\n",
              "      <th>age</th>\n",
              "      <th>hypertension</th>\n",
              "      <th>heart_disease</th>\n",
              "      <th>bmi</th>\n",
              "      <th>HbA1c_level</th>\n",
              "      <th>blood_glucose_level</th>\n",
              "      <th>diabetes</th>\n",
              "      <th>gender_Female</th>\n",
              "      <th>gender_Male</th>\n",
              "      <th>smoking_history_current</th>\n",
              "      <th>smoking_history_ever</th>\n",
              "      <th>smoking_history_former</th>\n",
              "      <th>smoking_history_never</th>\n",
              "      <th>smoking_history_not current</th>\n",
              "    </tr>\n",
              "  </thead>\n",
              "  <tbody>\n",
              "    <tr>\n",
              "      <th>0</th>\n",
              "      <td>80.0</td>\n",
              "      <td>0</td>\n",
              "      <td>1</td>\n",
              "      <td>25.19</td>\n",
              "      <td>6.6</td>\n",
              "      <td>140</td>\n",
              "      <td>0</td>\n",
              "      <td>True</td>\n",
              "      <td>False</td>\n",
              "      <td>False</td>\n",
              "      <td>False</td>\n",
              "      <td>False</td>\n",
              "      <td>True</td>\n",
              "      <td>False</td>\n",
              "    </tr>\n",
              "    <tr>\n",
              "      <th>2</th>\n",
              "      <td>28.0</td>\n",
              "      <td>0</td>\n",
              "      <td>0</td>\n",
              "      <td>27.32</td>\n",
              "      <td>5.7</td>\n",
              "      <td>158</td>\n",
              "      <td>0</td>\n",
              "      <td>False</td>\n",
              "      <td>True</td>\n",
              "      <td>False</td>\n",
              "      <td>False</td>\n",
              "      <td>False</td>\n",
              "      <td>True</td>\n",
              "      <td>False</td>\n",
              "    </tr>\n",
              "    <tr>\n",
              "      <th>3</th>\n",
              "      <td>36.0</td>\n",
              "      <td>0</td>\n",
              "      <td>0</td>\n",
              "      <td>23.45</td>\n",
              "      <td>5.0</td>\n",
              "      <td>155</td>\n",
              "      <td>0</td>\n",
              "      <td>True</td>\n",
              "      <td>False</td>\n",
              "      <td>True</td>\n",
              "      <td>False</td>\n",
              "      <td>False</td>\n",
              "      <td>False</td>\n",
              "      <td>False</td>\n",
              "    </tr>\n",
              "    <tr>\n",
              "      <th>4</th>\n",
              "      <td>76.0</td>\n",
              "      <td>1</td>\n",
              "      <td>1</td>\n",
              "      <td>20.14</td>\n",
              "      <td>4.8</td>\n",
              "      <td>155</td>\n",
              "      <td>0</td>\n",
              "      <td>False</td>\n",
              "      <td>True</td>\n",
              "      <td>True</td>\n",
              "      <td>False</td>\n",
              "      <td>False</td>\n",
              "      <td>False</td>\n",
              "      <td>False</td>\n",
              "    </tr>\n",
              "    <tr>\n",
              "      <th>5</th>\n",
              "      <td>20.0</td>\n",
              "      <td>0</td>\n",
              "      <td>0</td>\n",
              "      <td>27.32</td>\n",
              "      <td>6.6</td>\n",
              "      <td>85</td>\n",
              "      <td>0</td>\n",
              "      <td>True</td>\n",
              "      <td>False</td>\n",
              "      <td>False</td>\n",
              "      <td>False</td>\n",
              "      <td>False</td>\n",
              "      <td>True</td>\n",
              "      <td>False</td>\n",
              "    </tr>\n",
              "  </tbody>\n",
              "</table>\n",
              "</div>\n",
              "    <div class=\"colab-df-buttons\">\n",
              "\n",
              "  <div class=\"colab-df-container\">\n",
              "    <button class=\"colab-df-convert\" onclick=\"convertToInteractive('df-ee8d80e2-0fbe-4e0b-be6b-388b49b460fc')\"\n",
              "            title=\"Convert this dataframe to an interactive table.\"\n",
              "            style=\"display:none;\">\n",
              "\n",
              "  <svg xmlns=\"http://www.w3.org/2000/svg\" height=\"24px\" viewBox=\"0 -960 960 960\">\n",
              "    <path d=\"M120-120v-720h720v720H120Zm60-500h600v-160H180v160Zm220 220h160v-160H400v160Zm0 220h160v-160H400v160ZM180-400h160v-160H180v160Zm440 0h160v-160H620v160ZM180-180h160v-160H180v160Zm440 0h160v-160H620v160Z\"/>\n",
              "  </svg>\n",
              "    </button>\n",
              "\n",
              "  <style>\n",
              "    .colab-df-container {\n",
              "      display:flex;\n",
              "      gap: 12px;\n",
              "    }\n",
              "\n",
              "    .colab-df-convert {\n",
              "      background-color: #E8F0FE;\n",
              "      border: none;\n",
              "      border-radius: 50%;\n",
              "      cursor: pointer;\n",
              "      display: none;\n",
              "      fill: #1967D2;\n",
              "      height: 32px;\n",
              "      padding: 0 0 0 0;\n",
              "      width: 32px;\n",
              "    }\n",
              "\n",
              "    .colab-df-convert:hover {\n",
              "      background-color: #E2EBFA;\n",
              "      box-shadow: 0px 1px 2px rgba(60, 64, 67, 0.3), 0px 1px 3px 1px rgba(60, 64, 67, 0.15);\n",
              "      fill: #174EA6;\n",
              "    }\n",
              "\n",
              "    .colab-df-buttons div {\n",
              "      margin-bottom: 4px;\n",
              "    }\n",
              "\n",
              "    [theme=dark] .colab-df-convert {\n",
              "      background-color: #3B4455;\n",
              "      fill: #D2E3FC;\n",
              "    }\n",
              "\n",
              "    [theme=dark] .colab-df-convert:hover {\n",
              "      background-color: #434B5C;\n",
              "      box-shadow: 0px 1px 3px 1px rgba(0, 0, 0, 0.15);\n",
              "      filter: drop-shadow(0px 1px 2px rgba(0, 0, 0, 0.3));\n",
              "      fill: #FFFFFF;\n",
              "    }\n",
              "  </style>\n",
              "\n",
              "    <script>\n",
              "      const buttonEl =\n",
              "        document.querySelector('#df-ee8d80e2-0fbe-4e0b-be6b-388b49b460fc button.colab-df-convert');\n",
              "      buttonEl.style.display =\n",
              "        google.colab.kernel.accessAllowed ? 'block' : 'none';\n",
              "\n",
              "      async function convertToInteractive(key) {\n",
              "        const element = document.querySelector('#df-ee8d80e2-0fbe-4e0b-be6b-388b49b460fc');\n",
              "        const dataTable =\n",
              "          await google.colab.kernel.invokeFunction('convertToInteractive',\n",
              "                                                    [key], {});\n",
              "        if (!dataTable) return;\n",
              "\n",
              "        const docLinkHtml = 'Like what you see? Visit the ' +\n",
              "          '<a target=\"_blank\" href=https://colab.research.google.com/notebooks/data_table.ipynb>data table notebook</a>'\n",
              "          + ' to learn more about interactive tables.';\n",
              "        element.innerHTML = '';\n",
              "        dataTable['output_type'] = 'display_data';\n",
              "        await google.colab.output.renderOutput(dataTable, element);\n",
              "        const docLink = document.createElement('div');\n",
              "        docLink.innerHTML = docLinkHtml;\n",
              "        element.appendChild(docLink);\n",
              "      }\n",
              "    </script>\n",
              "  </div>\n",
              "\n",
              "\n",
              "<div id=\"df-1e013af3-748e-4f8f-b0c0-884dde5c91de\">\n",
              "  <button class=\"colab-df-quickchart\" onclick=\"quickchart('df-1e013af3-748e-4f8f-b0c0-884dde5c91de')\"\n",
              "            title=\"Suggest charts\"\n",
              "            style=\"display:none;\">\n",
              "\n",
              "<svg xmlns=\"http://www.w3.org/2000/svg\" height=\"24px\"viewBox=\"0 0 24 24\"\n",
              "     width=\"24px\">\n",
              "    <g>\n",
              "        <path d=\"M19 3H5c-1.1 0-2 .9-2 2v14c0 1.1.9 2 2 2h14c1.1 0 2-.9 2-2V5c0-1.1-.9-2-2-2zM9 17H7v-7h2v7zm4 0h-2V7h2v10zm4 0h-2v-4h2v4z\"/>\n",
              "    </g>\n",
              "</svg>\n",
              "  </button>\n",
              "\n",
              "<style>\n",
              "  .colab-df-quickchart {\n",
              "      --bg-color: #E8F0FE;\n",
              "      --fill-color: #1967D2;\n",
              "      --hover-bg-color: #E2EBFA;\n",
              "      --hover-fill-color: #174EA6;\n",
              "      --disabled-fill-color: #AAA;\n",
              "      --disabled-bg-color: #DDD;\n",
              "  }\n",
              "\n",
              "  [theme=dark] .colab-df-quickchart {\n",
              "      --bg-color: #3B4455;\n",
              "      --fill-color: #D2E3FC;\n",
              "      --hover-bg-color: #434B5C;\n",
              "      --hover-fill-color: #FFFFFF;\n",
              "      --disabled-bg-color: #3B4455;\n",
              "      --disabled-fill-color: #666;\n",
              "  }\n",
              "\n",
              "  .colab-df-quickchart {\n",
              "    background-color: var(--bg-color);\n",
              "    border: none;\n",
              "    border-radius: 50%;\n",
              "    cursor: pointer;\n",
              "    display: none;\n",
              "    fill: var(--fill-color);\n",
              "    height: 32px;\n",
              "    padding: 0;\n",
              "    width: 32px;\n",
              "  }\n",
              "\n",
              "  .colab-df-quickchart:hover {\n",
              "    background-color: var(--hover-bg-color);\n",
              "    box-shadow: 0 1px 2px rgba(60, 64, 67, 0.3), 0 1px 3px 1px rgba(60, 64, 67, 0.15);\n",
              "    fill: var(--button-hover-fill-color);\n",
              "  }\n",
              "\n",
              "  .colab-df-quickchart-complete:disabled,\n",
              "  .colab-df-quickchart-complete:disabled:hover {\n",
              "    background-color: var(--disabled-bg-color);\n",
              "    fill: var(--disabled-fill-color);\n",
              "    box-shadow: none;\n",
              "  }\n",
              "\n",
              "  .colab-df-spinner {\n",
              "    border: 2px solid var(--fill-color);\n",
              "    border-color: transparent;\n",
              "    border-bottom-color: var(--fill-color);\n",
              "    animation:\n",
              "      spin 1s steps(1) infinite;\n",
              "  }\n",
              "\n",
              "  @keyframes spin {\n",
              "    0% {\n",
              "      border-color: transparent;\n",
              "      border-bottom-color: var(--fill-color);\n",
              "      border-left-color: var(--fill-color);\n",
              "    }\n",
              "    20% {\n",
              "      border-color: transparent;\n",
              "      border-left-color: var(--fill-color);\n",
              "      border-top-color: var(--fill-color);\n",
              "    }\n",
              "    30% {\n",
              "      border-color: transparent;\n",
              "      border-left-color: var(--fill-color);\n",
              "      border-top-color: var(--fill-color);\n",
              "      border-right-color: var(--fill-color);\n",
              "    }\n",
              "    40% {\n",
              "      border-color: transparent;\n",
              "      border-right-color: var(--fill-color);\n",
              "      border-top-color: var(--fill-color);\n",
              "    }\n",
              "    60% {\n",
              "      border-color: transparent;\n",
              "      border-right-color: var(--fill-color);\n",
              "    }\n",
              "    80% {\n",
              "      border-color: transparent;\n",
              "      border-right-color: var(--fill-color);\n",
              "      border-bottom-color: var(--fill-color);\n",
              "    }\n",
              "    90% {\n",
              "      border-color: transparent;\n",
              "      border-bottom-color: var(--fill-color);\n",
              "    }\n",
              "  }\n",
              "</style>\n",
              "\n",
              "  <script>\n",
              "    async function quickchart(key) {\n",
              "      const quickchartButtonEl =\n",
              "        document.querySelector('#' + key + ' button');\n",
              "      quickchartButtonEl.disabled = true;  // To prevent multiple clicks.\n",
              "      quickchartButtonEl.classList.add('colab-df-spinner');\n",
              "      try {\n",
              "        const charts = await google.colab.kernel.invokeFunction(\n",
              "            'suggestCharts', [key], {});\n",
              "      } catch (error) {\n",
              "        console.error('Error during call to suggestCharts:', error);\n",
              "      }\n",
              "      quickchartButtonEl.classList.remove('colab-df-spinner');\n",
              "      quickchartButtonEl.classList.add('colab-df-quickchart-complete');\n",
              "    }\n",
              "    (() => {\n",
              "      let quickchartButtonEl =\n",
              "        document.querySelector('#df-1e013af3-748e-4f8f-b0c0-884dde5c91de button');\n",
              "      quickchartButtonEl.style.display =\n",
              "        google.colab.kernel.accessAllowed ? 'block' : 'none';\n",
              "    })();\n",
              "  </script>\n",
              "</div>\n",
              "    </div>\n",
              "  </div>\n"
            ],
            "application/vnd.google.colaboratory.intrinsic+json": {
              "type": "dataframe",
              "variable_name": "diabetes_df",
              "summary": "{\n  \"name\": \"diabetes_df\",\n  \"rows\": 64172,\n  \"fields\": [\n    {\n      \"column\": \"age\",\n      \"properties\": {\n        \"dtype\": \"number\",\n        \"std\": 19.539694763800668,\n        \"min\": 0.16,\n        \"max\": 80.0,\n        \"num_unique_values\": 101,\n        \"samples\": [\n          0.24,\n          39.0,\n          52.0\n        ],\n        \"semantic_type\": \"\",\n        \"description\": \"\"\n      }\n    },\n    {\n      \"column\": \"hypertension\",\n      \"properties\": {\n        \"dtype\": \"number\",\n        \"std\": 0,\n        \"min\": 0,\n        \"max\": 1,\n        \"num_unique_values\": 2,\n        \"samples\": [\n          1,\n          0\n        ],\n        \"semantic_type\": \"\",\n        \"description\": \"\"\n      }\n    },\n    {\n      \"column\": \"heart_disease\",\n      \"properties\": {\n        \"dtype\": \"number\",\n        \"std\": 0,\n        \"min\": 0,\n        \"max\": 1,\n        \"num_unique_values\": 2,\n        \"samples\": [\n          0,\n          1\n        ],\n        \"semantic_type\": \"\",\n        \"description\": \"\"\n      }\n    },\n    {\n      \"column\": \"bmi\",\n      \"properties\": {\n        \"dtype\": \"number\",\n        \"std\": 6.515975487177701,\n        \"min\": 10.08,\n        \"max\": 91.82,\n        \"num_unique_values\": 3943,\n        \"samples\": [\n          58.73,\n          64.73\n        ],\n        \"semantic_type\": \"\",\n        \"description\": \"\"\n      }\n    },\n    {\n      \"column\": \"HbA1c_level\",\n      \"properties\": {\n        \"dtype\": \"number\",\n        \"std\": 1.0955352043266928,\n        \"min\": 3.5,\n        \"max\": 9.0,\n        \"num_unique_values\": 18,\n        \"samples\": [\n          6.6,\n          5.7\n        ],\n        \"semantic_type\": \"\",\n        \"description\": \"\"\n      }\n    },\n    {\n      \"column\": \"blood_glucose_level\",\n      \"properties\": {\n        \"dtype\": \"number\",\n        \"std\": 42,\n        \"min\": 80,\n        \"max\": 300,\n        \"num_unique_values\": 18,\n        \"samples\": [\n          140,\n          158\n        ],\n        \"semantic_type\": \"\",\n        \"description\": \"\"\n      }\n    },\n    {\n      \"column\": \"diabetes\",\n      \"properties\": {\n        \"dtype\": \"number\",\n        \"std\": 0,\n        \"min\": 0,\n        \"max\": 1,\n        \"num_unique_values\": 2,\n        \"samples\": [\n          1,\n          0\n        ],\n        \"semantic_type\": \"\",\n        \"description\": \"\"\n      }\n    },\n    {\n      \"column\": \"gender_Female\",\n      \"properties\": {\n        \"dtype\": \"boolean\",\n        \"num_unique_values\": 2,\n        \"samples\": [\n          false,\n          true\n        ],\n        \"semantic_type\": \"\",\n        \"description\": \"\"\n      }\n    },\n    {\n      \"column\": \"gender_Male\",\n      \"properties\": {\n        \"dtype\": \"boolean\",\n        \"num_unique_values\": 2,\n        \"samples\": [\n          true,\n          false\n        ],\n        \"semantic_type\": \"\",\n        \"description\": \"\"\n      }\n    },\n    {\n      \"column\": \"smoking_history_current\",\n      \"properties\": {\n        \"dtype\": \"boolean\",\n        \"num_unique_values\": 2,\n        \"samples\": [\n          true,\n          false\n        ],\n        \"semantic_type\": \"\",\n        \"description\": \"\"\n      }\n    },\n    {\n      \"column\": \"smoking_history_ever\",\n      \"properties\": {\n        \"dtype\": \"boolean\",\n        \"num_unique_values\": 2,\n        \"samples\": [\n          true,\n          false\n        ],\n        \"semantic_type\": \"\",\n        \"description\": \"\"\n      }\n    },\n    {\n      \"column\": \"smoking_history_former\",\n      \"properties\": {\n        \"dtype\": \"boolean\",\n        \"num_unique_values\": 2,\n        \"samples\": [\n          true,\n          false\n        ],\n        \"semantic_type\": \"\",\n        \"description\": \"\"\n      }\n    },\n    {\n      \"column\": \"smoking_history_never\",\n      \"properties\": {\n        \"dtype\": \"boolean\",\n        \"num_unique_values\": 2,\n        \"samples\": [\n          false,\n          true\n        ],\n        \"semantic_type\": \"\",\n        \"description\": \"\"\n      }\n    },\n    {\n      \"column\": \"smoking_history_not current\",\n      \"properties\": {\n        \"dtype\": \"boolean\",\n        \"num_unique_values\": 2,\n        \"samples\": [\n          true,\n          false\n        ],\n        \"semantic_type\": \"\",\n        \"description\": \"\"\n      }\n    }\n  ]\n}"
            }
          },
          "metadata": {},
          "execution_count": 3
        }
      ]
    },
    {
      "cell_type": "markdown",
      "source": [
        "## Features & Target\n",
        "\n",
        "Now the data has been processed and ready for regression. The regression would be used to predict the diabetes column, which has binary values 0 or 1 for no or yes. We determined the rest of the columns, “age,” “hypertension,” “heart_disease,” “bmi,” “Hb1Ac_level,” “blood_glucose_level,” “gender_Female,” “gender_Male,” “smoking_history_current,” “smoking_history_ever,” “smoking_history_former,” “smoking_history_never,” and “smoking_history_not current,” were all relevant in predicting whether a person has diabetes or not. All these columns represent the questions that medical professionals ask or tests they conduct in such cases. Therefore, for features (X) all columns were used, except “diabetes” which is the outcome variable (y)."
      ],
      "metadata": {
        "id": "betJcex-zs6J"
      }
    },
    {
      "cell_type": "code",
      "source": [
        "# Setting features and target\n",
        "X = diabetes_df.drop(columns=['diabetes'])\n",
        "y = diabetes_df.diabetes"
      ],
      "metadata": {
        "id": "vMoSvTr89oC0"
      },
      "execution_count": null,
      "outputs": []
    },
    {
      "cell_type": "markdown",
      "source": [
        "# **3. Splitting & Preprocessing Data**"
      ],
      "metadata": {
        "id": "GkIAT1Jicob7"
      }
    },
    {
      "cell_type": "code",
      "source": [
        "# Splitting data into training and testing\n",
        "X_train, X_test, y_train, y_test = train_test_split(X, y, test_size=0.25, random_state=0)\n",
        "\n",
        "# Preprocessing data using StandardScaler\n",
        "scaler = preprocessing.StandardScaler()\n",
        "X_train = scaler.fit_transform(X_train)\n",
        "X_test = scaler.transform(X_test)\n"
      ],
      "metadata": {
        "id": "RK7uMY_vTiWC"
      },
      "execution_count": null,
      "outputs": []
    },
    {
      "cell_type": "markdown",
      "source": [
        "# **4. Logistic Regression**"
      ],
      "metadata": {
        "id": "DLJ_cydjdvfQ"
      }
    },
    {
      "cell_type": "code",
      "source": [
        "# Running the regression\n",
        "log_reg = LogisticRegression()\n",
        "log_reg.fit(X_train, y_train)\n",
        "y_pred = log_reg.predict(X_test)\n",
        "\n",
        "# Classes, Intercept, and Coefficients\n",
        "print('Classes', log_reg.classes_)\n",
        "print('Intercept', log_reg.intercept_)\n",
        "print('Coefficients', log_reg.coef_)\n",
        "\n",
        "# Accuracy of the prediction\n",
        "print('Accuracy', log_reg.score(X_test, y_test))"
      ],
      "metadata": {
        "id": "AwR5EeyzVTzE",
        "colab": {
          "base_uri": "https://localhost:8080/"
        },
        "outputId": "fe975aae-3250-450c-d365-b8f07b9c8f1a"
      },
      "execution_count": null,
      "outputs": [
        {
          "output_type": "stream",
          "name": "stdout",
          "text": [
            "Classes [0 1]\n",
            "Intercept [-4.5701517]\n",
            "Coefficients [[ 0.91575622  0.21657366  0.13788233  0.56611528  2.50378097  1.38367541\n",
            "  -0.07031666  0.07031666  0.04533858  0.02078733 -0.00329397 -0.01923139\n",
            "  -0.03399718]]\n",
            "Accuracy 0.9502586797980428\n"
          ]
        }
      ]
    },
    {
      "cell_type": "markdown",
      "source": [
        "# **5. Classification Report**\n",
        "\n",
        "\n",
        "For precision, 96% of instances predicted as 0 were actually 0, and 87% of instances predicted as 1 were actually 1. For recall 99% of the actual class 0 instances were correctly predicted as 0. For 1, 64% of the actual class 1 instances were correctly predicted as 1. Recall is the mean of precision and recall. For recall, class 0 had a .97 while class 1 had a .74. Overall, the model shows high precision but low recall for class 1. This suggests the model may be better at correctly identifying negative instances than positive instances."
      ],
      "metadata": {
        "id": "6YJ2Wntad_CF"
      }
    },
    {
      "cell_type": "code",
      "source": [
        "print(classification_report(y_test, log_reg.predict(X_test)))"
      ],
      "metadata": {
        "id": "juIF56hwg2jQ",
        "colab": {
          "base_uri": "https://localhost:8080/"
        },
        "outputId": "dde85016-ffa2-4798-b98f-770f23f5c26c"
      },
      "execution_count": null,
      "outputs": [
        {
          "output_type": "stream",
          "name": "stdout",
          "text": [
            "              precision    recall  f1-score   support\n",
            "\n",
            "           0       0.96      0.99      0.97     14308\n",
            "           1       0.87      0.64      0.74      1735\n",
            "\n",
            "    accuracy                           0.95     16043\n",
            "   macro avg       0.91      0.81      0.85     16043\n",
            "weighted avg       0.95      0.95      0.95     16043\n",
            "\n"
          ]
        }
      ]
    },
    {
      "cell_type": "markdown",
      "source": [
        "# **6. Confusion Matrix**"
      ],
      "metadata": {
        "id": "amxJMXY7eSDK"
      }
    },
    {
      "cell_type": "code",
      "source": [
        "# Confusion matrix\n",
        "conf_matrix = confusion_matrix(y_test, y_pred)\n",
        "\n",
        "# Setting up the plot\n",
        "categories = [0,1]\n",
        "fig, axis = plt.subplots()\n",
        "plt.xticks([0,1], categories)\n",
        "plt.yticks([0,1], categories)\n",
        "\n",
        "# Heatmap\n",
        "sns.heatmap(pd.DataFrame(conf_matrix), annot=True, cmap='YlGnBu', fmt='g')\n",
        "axis.xaxis.set_label_position('top')\n",
        "plt.tight_layout()\n",
        "plt.title('Confusion Matrix')\n",
        "plt.ylabel('Actual Label')\n",
        "plt.xlabel('Predicted Label')"
      ],
      "metadata": {
        "id": "D8fCbKSShENv",
        "colab": {
          "base_uri": "https://localhost:8080/",
          "height": 542
        },
        "outputId": "a9f17628-06da-4f28-ae5f-186edd08c221"
      },
      "execution_count": null,
      "outputs": [
        {
          "output_type": "execute_result",
          "data": {
            "text/plain": [
              "Text(0.5, 427.9555555555555, 'Predicted Label')"
            ]
          },
          "metadata": {},
          "execution_count": 8
        },
        {
          "output_type": "display_data",
          "data": {
            "text/plain": [
              "<Figure size 640x480 with 2 Axes>"
            ],
            "image/png": "[encoded data removed]"
          },
          "metadata": {}
        }
      ]
    },
    {
      "cell_type": "markdown",
      "source": [
        "When analyzing the confusion matrix of our regression, we found that out of 14,308 cases that did not actually have diabetes (0), 14,137 were correctly predicted by the model to not have diabetes. However, the model incorrectly identified 171 cases as having diabetes. Furthermore, out of the 1,735 cases that did actually have diabetes (1), 1,108 were correctly predicted by the model to have diabetes, while 627 were incorrectly indentified as not having diabetes.\n",
        "\n",
        "$True Negative Rate = \\frac{TN}{FP+TN} = \\frac{14137}{171+14137}=0.988$\n",
        "\n",
        "$False Positive Rate = \\frac{FP}{FP+TN} = \\frac{171}{171+14137}=0.012$\n",
        "\n",
        "$True Positive Rate = \\frac{TP}{TP+FN} = \\frac{1108}{1108+627}=0.639$\n",
        "\n",
        "$False Negative Rate = \\frac{FN}{TP+FN} = \\frac{627}{1108+627}=0.361$\n",
        "\n",
        "\n",
        "This shows that the model is more effective at predicting cases that do not have diabetes (True Negative Rate) than cases that do have diabetes (True Positive Rate), as the model better captured the actual negative cases than positive."
      ],
      "metadata": {
        "id": "2mpunUjZ0tF_"
      }
    },
    {
      "cell_type": "markdown",
      "source": [
        "# **7. Demographic Variables**"
      ],
      "metadata": {
        "id": "8MQU5koueoZ0"
      }
    },
    {
      "cell_type": "code",
      "source": [
        "## Step (4) with only males. Splitting the dataset from males vs females and trainging the new dataframe.\n",
        "df_male = diabetes_df[diabetes_df['gender_Male']==True]\n",
        "X = df_male.drop(\"diabetes\",axis=1)\n",
        "y = df_male.diabetes\n",
        "X_train,X_test,y_train,y_test=train_test_split(X,y,test_size=0.25,random_state=0)\n",
        "LogReg = LogisticRegression()\n",
        "\n",
        "\n",
        "scaler = preprocessing.StandardScaler()\n",
        "X_train = scaler.fit_transform(X_train)\n",
        "X_test = scaler.transform(X_test)\n",
        "\n",
        "LogReg.fit(X_train,y_train)\n",
        "\n",
        "\n",
        "y_prediction=LogReg.predict(X_test)\n",
        "df_male.head()"
      ],
      "metadata": {
        "colab": {
          "base_uri": "https://localhost:8080/",
          "height": 244
        },
        "id": "Ng_9IpPzL1Ot",
        "outputId": "b44d6bf5-c6d2-465d-d65a-44e357a8144a"
      },
      "execution_count": null,
      "outputs": [
        {
          "output_type": "execute_result",
          "data": {
            "text/plain": [
              "     age  hypertension  heart_disease    bmi  HbA1c_level  \\\n",
              "2   28.0             0              0  27.32          5.7   \n",
              "4   76.0             1              1  20.14          4.8   \n",
              "8   42.0             0              0  33.64          4.8   \n",
              "16  15.0             0              0  30.36          6.1   \n",
              "19  37.0             0              0  25.72          3.5   \n",
              "\n",
              "    blood_glucose_level  diabetes  gender_Female  gender_Male  \\\n",
              "2                   158         0          False         True   \n",
              "4                   155         0          False         True   \n",
              "8                   145         0          False         True   \n",
              "16                  200         0          False         True   \n",
              "19                  159         0          False         True   \n",
              "\n",
              "    smoking_history_current  smoking_history_ever  smoking_history_former  \\\n",
              "2                     False                 False                   False   \n",
              "4                      True                 False                   False   \n",
              "8                     False                 False                   False   \n",
              "16                    False                 False                   False   \n",
              "19                    False                  True                   False   \n",
              "\n",
              "    smoking_history_never  smoking_history_not current  \n",
              "2                    True                        False  \n",
              "4                   False                        False  \n",
              "8                    True                        False  \n",
              "16                   True                        False  \n",
              "19                  False                        False  "
            ],
            "text/html": [
              "\n",
              "  <div id=\"df-952c19d9-6d61-4cc9-b7a0-fac54a2a0f1e\" class=\"colab-df-container\">\n",
              "    <div>\n",
              "<style scoped>\n",
              "    .dataframe tbody tr th:only-of-type {\n",
              "        vertical-align: middle;\n",
              "    }\n",
              "\n",
              "    .dataframe tbody tr th {\n",
              "        vertical-align: top;\n",
              "    }\n",
              "\n",
              "    .dataframe thead th {\n",
              "        text-align: right;\n",
              "    }\n",
              "</style>\n",
              "<table border=\"1\" class=\"dataframe\">\n",
              "  <thead>\n",
              "    <tr style=\"text-align: right;\">\n",
              "      <th></th>\n",
              "      <th>age</th>\n",
              "      <th>hypertension</th>\n",
              "      <th>heart_disease</th>\n",
              "      <th>bmi</th>\n",
              "      <th>HbA1c_level</th>\n",
              "      <th>blood_glucose_level</th>\n",
              "      <th>diabetes</th>\n",
              "      <th>gender_Female</th>\n",
              "      <th>gender_Male</th>\n",
              "      <th>smoking_history_current</th>\n",
              "      <th>smoking_history_ever</th>\n",
              "      <th>smoking_history_former</th>\n",
              "      <th>smoking_history_never</th>\n",
              "      <th>smoking_history_not current</th>\n",
              "    </tr>\n",
              "  </thead>\n",
              "  <tbody>\n",
              "    <tr>\n",
              "      <th>2</th>\n",
              "      <td>28.0</td>\n",
              "      <td>0</td>\n",
              "      <td>0</td>\n",
              "      <td>27.32</td>\n",
              "      <td>5.7</td>\n",
              "      <td>158</td>\n",
              "      <td>0</td>\n",
              "      <td>False</td>\n",
              "      <td>True</td>\n",
              "      <td>False</td>\n",
              "      <td>False</td>\n",
              "      <td>False</td>\n",
              "      <td>True</td>\n",
              "      <td>False</td>\n",
              "    </tr>\n",
              "    <tr>\n",
              "      <th>4</th>\n",
              "      <td>76.0</td>\n",
              "      <td>1</td>\n",
              "      <td>1</td>\n",
              "      <td>20.14</td>\n",
              "      <td>4.8</td>\n",
              "      <td>155</td>\n",
              "      <td>0</td>\n",
              "      <td>False</td>\n",
              "      <td>True</td>\n",
              "      <td>True</td>\n",
              "      <td>False</td>\n",
              "      <td>False</td>\n",
              "      <td>False</td>\n",
              "      <td>False</td>\n",
              "    </tr>\n",
              "    <tr>\n",
              "      <th>8</th>\n",
              "      <td>42.0</td>\n",
              "      <td>0</td>\n",
              "      <td>0</td>\n",
              "      <td>33.64</td>\n",
              "      <td>4.8</td>\n",
              "      <td>145</td>\n",
              "      <td>0</td>\n",
              "      <td>False</td>\n",
              "      <td>True</td>\n",
              "      <td>False</td>\n",
              "      <td>False</td>\n",
              "      <td>False</td>\n",
              "      <td>True</td>\n",
              "      <td>False</td>\n",
              "    </tr>\n",
              "    <tr>\n",
              "      <th>16</th>\n",
              "      <td>15.0</td>\n",
              "      <td>0</td>\n",
              "      <td>0</td>\n",
              "      <td>30.36</td>\n",
              "      <td>6.1</td>\n",
              "      <td>200</td>\n",
              "      <td>0</td>\n",
              "      <td>False</td>\n",
              "      <td>True</td>\n",
              "      <td>False</td>\n",
              "      <td>False</td>\n",
              "      <td>False</td>\n",
              "      <td>True</td>\n",
              "      <td>False</td>\n",
              "    </tr>\n",
              "    <tr>\n",
              "      <th>19</th>\n",
              "      <td>37.0</td>\n",
              "      <td>0</td>\n",
              "      <td>0</td>\n",
              "      <td>25.72</td>\n",
              "      <td>3.5</td>\n",
              "      <td>159</td>\n",
              "      <td>0</td>\n",
              "      <td>False</td>\n",
              "      <td>True</td>\n",
              "      <td>False</td>\n",
              "      <td>True</td>\n",
              "      <td>False</td>\n",
              "      <td>False</td>\n",
              "      <td>False</td>\n",
              "    </tr>\n",
              "  </tbody>\n",
              "</table>\n",
              "</div>\n",
              "    <div class=\"colab-df-buttons\">\n",
              "\n",
              "  <div class=\"colab-df-container\">\n",
              "    <button class=\"colab-df-convert\" onclick=\"convertToInteractive('df-952c19d9-6d61-4cc9-b7a0-fac54a2a0f1e')\"\n",
              "            title=\"Convert this dataframe to an interactive table.\"\n",
              "            style=\"display:none;\">\n",
              "\n",
              "  <svg xmlns=\"http://www.w3.org/2000/svg\" height=\"24px\" viewBox=\"0 -960 960 960\">\n",
              "    <path d=\"M120-120v-720h720v720H120Zm60-500h600v-160H180v160Zm220 220h160v-160H400v160Zm0 220h160v-160H400v160ZM180-400h160v-160H180v160Zm440 0h160v-160H620v160ZM180-180h160v-160H180v160Zm440 0h160v-160H620v160Z\"/>\n",
              "  </svg>\n",
              "    </button>\n",
              "\n",
              "  <style>\n",
              "    .colab-df-container {\n",
              "      display:flex;\n",
              "      gap: 12px;\n",
              "    }\n",
              "\n",
              "    .colab-df-convert {\n",
              "      background-color: #E8F0FE;\n",
              "      border: none;\n",
              "      border-radius: 50%;\n",
              "      cursor: pointer;\n",
              "      display: none;\n",
              "      fill: #1967D2;\n",
              "      height: 32px;\n",
              "      padding: 0 0 0 0;\n",
              "      width: 32px;\n",
              "    }\n",
              "\n",
              "    .colab-df-convert:hover {\n",
              "      background-color: #E2EBFA;\n",
              "      box-shadow: 0px 1px 2px rgba(60, 64, 67, 0.3), 0px 1px 3px 1px rgba(60, 64, 67, 0.15);\n",
              "      fill: #174EA6;\n",
              "    }\n",
              "\n",
              "    .colab-df-buttons div {\n",
              "      margin-bottom: 4px;\n",
              "    }\n",
              "\n",
              "    [theme=dark] .colab-df-convert {\n",
              "      background-color: #3B4455;\n",
              "      fill: #D2E3FC;\n",
              "    }\n",
              "\n",
              "    [theme=dark] .colab-df-convert:hover {\n",
              "      background-color: #434B5C;\n",
              "      box-shadow: 0px 1px 3px 1px rgba(0, 0, 0, 0.15);\n",
              "      filter: drop-shadow(0px 1px 2px rgba(0, 0, 0, 0.3));\n",
              "      fill: #FFFFFF;\n",
              "    }\n",
              "  </style>\n",
              "\n",
              "    <script>\n",
              "      const buttonEl =\n",
              "        document.querySelector('#df-952c19d9-6d61-4cc9-b7a0-fac54a2a0f1e button.colab-df-convert');\n",
              "      buttonEl.style.display =\n",
              "        google.colab.kernel.accessAllowed ? 'block' : 'none';\n",
              "\n",
              "      async function convertToInteractive(key) {\n",
              "        const element = document.querySelector('#df-952c19d9-6d61-4cc9-b7a0-fac54a2a0f1e');\n",
              "        const dataTable =\n",
              "          await google.colab.kernel.invokeFunction('convertToInteractive',\n",
              "                                                    [key], {});\n",
              "        if (!dataTable) return;\n",
              "\n",
              "        const docLinkHtml = 'Like what you see? Visit the ' +\n",
              "          '<a target=\"_blank\" href=https://colab.research.google.com/notebooks/data_table.ipynb>data table notebook</a>'\n",
              "          + ' to learn more about interactive tables.';\n",
              "        element.innerHTML = '';\n",
              "        dataTable['output_type'] = 'display_data';\n",
              "        await google.colab.output.renderOutput(dataTable, element);\n",
              "        const docLink = document.createElement('div');\n",
              "        docLink.innerHTML = docLinkHtml;\n",
              "        element.appendChild(docLink);\n",
              "      }\n",
              "    </script>\n",
              "  </div>\n",
              "\n",
              "\n",
              "<div id=\"df-a69c6fe4-0e23-4341-8fb2-5eaac8ecbef3\">\n",
              "  <button class=\"colab-df-quickchart\" onclick=\"quickchart('df-a69c6fe4-0e23-4341-8fb2-5eaac8ecbef3')\"\n",
              "            title=\"Suggest charts\"\n",
              "            style=\"display:none;\">\n",
              "\n",
              "<svg xmlns=\"http://www.w3.org/2000/svg\" height=\"24px\"viewBox=\"0 0 24 24\"\n",
              "     width=\"24px\">\n",
              "    <g>\n",
              "        <path d=\"M19 3H5c-1.1 0-2 .9-2 2v14c0 1.1.9 2 2 2h14c1.1 0 2-.9 2-2V5c0-1.1-.9-2-2-2zM9 17H7v-7h2v7zm4 0h-2V7h2v10zm4 0h-2v-4h2v4z\"/>\n",
              "    </g>\n",
              "</svg>\n",
              "  </button>\n",
              "\n",
              "<style>\n",
              "  .colab-df-quickchart {\n",
              "      --bg-color: #E8F0FE;\n",
              "      --fill-color: #1967D2;\n",
              "      --hover-bg-color: #E2EBFA;\n",
              "      --hover-fill-color: #174EA6;\n",
              "      --disabled-fill-color: #AAA;\n",
              "      --disabled-bg-color: #DDD;\n",
              "  }\n",
              "\n",
              "  [theme=dark] .colab-df-quickchart {\n",
              "      --bg-color: #3B4455;\n",
              "      --fill-color: #D2E3FC;\n",
              "      --hover-bg-color: #434B5C;\n",
              "      --hover-fill-color: #FFFFFF;\n",
              "      --disabled-bg-color: #3B4455;\n",
              "      --disabled-fill-color: #666;\n",
              "  }\n",
              "\n",
              "  .colab-df-quickchart {\n",
              "    background-color: var(--bg-color);\n",
              "    border: none;\n",
              "    border-radius: 50%;\n",
              "    cursor: pointer;\n",
              "    display: none;\n",
              "    fill: var(--fill-color);\n",
              "    height: 32px;\n",
              "    padding: 0;\n",
              "    width: 32px;\n",
              "  }\n",
              "\n",
              "  .colab-df-quickchart:hover {\n",
              "    background-color: var(--hover-bg-color);\n",
              "    box-shadow: 0 1px 2px rgba(60, 64, 67, 0.3), 0 1px 3px 1px rgba(60, 64, 67, 0.15);\n",
              "    fill: var(--button-hover-fill-color);\n",
              "  }\n",
              "\n",
              "  .colab-df-quickchart-complete:disabled,\n",
              "  .colab-df-quickchart-complete:disabled:hover {\n",
              "    background-color: var(--disabled-bg-color);\n",
              "    fill: var(--disabled-fill-color);\n",
              "    box-shadow: none;\n",
              "  }\n",
              "\n",
              "  .colab-df-spinner {\n",
              "    border: 2px solid var(--fill-color);\n",
              "    border-color: transparent;\n",
              "    border-bottom-color: var(--fill-color);\n",
              "    animation:\n",
              "      spin 1s steps(1) infinite;\n",
              "  }\n",
              "\n",
              "  @keyframes spin {\n",
              "    0% {\n",
              "      border-color: transparent;\n",
              "      border-bottom-color: var(--fill-color);\n",
              "      border-left-color: var(--fill-color);\n",
              "    }\n",
              "    20% {\n",
              "      border-color: transparent;\n",
              "      border-left-color: var(--fill-color);\n",
              "      border-top-color: var(--fill-color);\n",
              "    }\n",
              "    30% {\n",
              "      border-color: transparent;\n",
              "      border-left-color: var(--fill-color);\n",
              "      border-top-color: var(--fill-color);\n",
              "      border-right-color: var(--fill-color);\n",
              "    }\n",
              "    40% {\n",
              "      border-color: transparent;\n",
              "      border-right-color: var(--fill-color);\n",
              "      border-top-color: var(--fill-color);\n",
              "    }\n",
              "    60% {\n",
              "      border-color: transparent;\n",
              "      border-right-color: var(--fill-color);\n",
              "    }\n",
              "    80% {\n",
              "      border-color: transparent;\n",
              "      border-right-color: var(--fill-color);\n",
              "      border-bottom-color: var(--fill-color);\n",
              "    }\n",
              "    90% {\n",
              "      border-color: transparent;\n",
              "      border-bottom-color: var(--fill-color);\n",
              "    }\n",
              "  }\n",
              "</style>\n",
              "\n",
              "  <script>\n",
              "    async function quickchart(key) {\n",
              "      const quickchartButtonEl =\n",
              "        document.querySelector('#' + key + ' button');\n",
              "      quickchartButtonEl.disabled = true;  // To prevent multiple clicks.\n",
              "      quickchartButtonEl.classList.add('colab-df-spinner');\n",
              "      try {\n",
              "        const charts = await google.colab.kernel.invokeFunction(\n",
              "            'suggestCharts', [key], {});\n",
              "      } catch (error) {\n",
              "        console.error('Error during call to suggestCharts:', error);\n",
              "      }\n",
              "      quickchartButtonEl.classList.remove('colab-df-spinner');\n",
              "      quickchartButtonEl.classList.add('colab-df-quickchart-complete');\n",
              "    }\n",
              "    (() => {\n",
              "      let quickchartButtonEl =\n",
              "        document.querySelector('#df-a69c6fe4-0e23-4341-8fb2-5eaac8ecbef3 button');\n",
              "      quickchartButtonEl.style.display =\n",
              "        google.colab.kernel.accessAllowed ? 'block' : 'none';\n",
              "    })();\n",
              "  </script>\n",
              "</div>\n",
              "    </div>\n",
              "  </div>\n"
            ],
            "application/vnd.google.colaboratory.intrinsic+json": {
              "type": "dataframe",
              "variable_name": "df_male",
              "summary": "{\n  \"name\": \"df_male\",\n  \"rows\": 25320,\n  \"fields\": [\n    {\n      \"column\": \"age\",\n      \"properties\": {\n        \"dtype\": \"number\",\n        \"std\": 19.792490385796302,\n        \"min\": 0.16,\n        \"max\": 80.0,\n        \"num_unique_values\": 100,\n        \"samples\": [\n          0.24,\n          6.0,\n          1.88\n        ],\n        \"semantic_type\": \"\",\n        \"description\": \"\"\n      }\n    },\n    {\n      \"column\": \"hypertension\",\n      \"properties\": {\n        \"dtype\": \"number\",\n        \"std\": 0,\n        \"min\": 0,\n        \"max\": 1,\n        \"num_unique_values\": 2,\n        \"samples\": [\n          1,\n          0\n        ],\n        \"semantic_type\": \"\",\n        \"description\": \"\"\n      }\n    },\n    {\n      \"column\": \"heart_disease\",\n      \"properties\": {\n        \"dtype\": \"number\",\n        \"std\": 0,\n        \"min\": 0,\n        \"max\": 1,\n        \"num_unique_values\": 2,\n        \"samples\": [\n          1,\n          0\n        ],\n        \"semantic_type\": \"\",\n        \"description\": \"\"\n      }\n    },\n    {\n      \"column\": \"bmi\",\n      \"properties\": {\n        \"dtype\": \"number\",\n        \"std\": 5.869398837016764,\n        \"min\": 10.08,\n        \"max\": 91.82,\n        \"num_unique_values\": 3125,\n        \"samples\": [\n          32.01,\n          31.98\n        ],\n        \"semantic_type\": \"\",\n        \"description\": \"\"\n      }\n    },\n    {\n      \"column\": \"HbA1c_level\",\n      \"properties\": {\n        \"dtype\": \"number\",\n        \"std\": 1.112508301108457,\n        \"min\": 3.5,\n        \"max\": 9.0,\n        \"num_unique_values\": 18,\n        \"samples\": [\n          5.7,\n          4.8\n        ],\n        \"semantic_type\": \"\",\n        \"description\": \"\"\n      }\n    },\n    {\n      \"column\": \"blood_glucose_level\",\n      \"properties\": {\n        \"dtype\": \"number\",\n        \"std\": 43,\n        \"min\": 80,\n        \"max\": 300,\n        \"num_unique_values\": 18,\n        \"samples\": [\n          158,\n          155\n        ],\n        \"semantic_type\": \"\",\n        \"description\": \"\"\n      }\n    },\n    {\n      \"column\": \"diabetes\",\n      \"properties\": {\n        \"dtype\": \"number\",\n        \"std\": 0,\n        \"min\": 0,\n        \"max\": 1,\n        \"num_unique_values\": 2,\n        \"samples\": [\n          1,\n          0\n        ],\n        \"semantic_type\": \"\",\n        \"description\": \"\"\n      }\n    },\n    {\n      \"column\": \"gender_Female\",\n      \"properties\": {\n        \"dtype\": \"boolean\",\n        \"num_unique_values\": 1,\n        \"samples\": [\n          false\n        ],\n        \"semantic_type\": \"\",\n        \"description\": \"\"\n      }\n    },\n    {\n      \"column\": \"gender_Male\",\n      \"properties\": {\n        \"dtype\": \"boolean\",\n        \"num_unique_values\": 1,\n        \"samples\": [\n          true\n        ],\n        \"semantic_type\": \"\",\n        \"description\": \"\"\n      }\n    },\n    {\n      \"column\": \"smoking_history_current\",\n      \"properties\": {\n        \"dtype\": \"boolean\",\n        \"num_unique_values\": 2,\n        \"samples\": [\n          true\n        ],\n        \"semantic_type\": \"\",\n        \"description\": \"\"\n      }\n    },\n    {\n      \"column\": \"smoking_history_ever\",\n      \"properties\": {\n        \"dtype\": \"boolean\",\n        \"num_unique_values\": 2,\n        \"samples\": [\n          true\n        ],\n        \"semantic_type\": \"\",\n        \"description\": \"\"\n      }\n    },\n    {\n      \"column\": \"smoking_history_former\",\n      \"properties\": {\n        \"dtype\": \"boolean\",\n        \"num_unique_values\": 2,\n        \"samples\": [\n          true\n        ],\n        \"semantic_type\": \"\",\n        \"description\": \"\"\n      }\n    },\n    {\n      \"column\": \"smoking_history_never\",\n      \"properties\": {\n        \"dtype\": \"boolean\",\n        \"num_unique_values\": 2,\n        \"samples\": [\n          false\n        ],\n        \"semantic_type\": \"\",\n        \"description\": \"\"\n      }\n    },\n    {\n      \"column\": \"smoking_history_not current\",\n      \"properties\": {\n        \"dtype\": \"boolean\",\n        \"num_unique_values\": 2,\n        \"samples\": [\n          true\n        ],\n        \"semantic_type\": \"\",\n        \"description\": \"\"\n      }\n    }\n  ]\n}"
            }
          },
          "metadata": {},
          "execution_count": 9
        }
      ]
    },
    {
      "cell_type": "code",
      "source": [
        "## Step (5) with only males. Classification results from only males.\n",
        "print('Classes', LogReg.classes_)\n",
        "print('Intercept',LogReg.intercept_)\n",
        "print(\"Coefficients\", LogReg.coef_ )"
      ],
      "metadata": {
        "colab": {
          "base_uri": "https://localhost:8080/"
        },
        "id": "pNG8xQkDRm3h",
        "outputId": "fdb390c8-8e11-4a85-97c1-53c18f6d7ac4"
      },
      "execution_count": null,
      "outputs": [
        {
          "output_type": "stream",
          "name": "stdout",
          "text": [
            "Classes [0 1]\n",
            "Intercept [-4.13398965]\n",
            "Coefficients [[ 8.93222626e-01  2.46944068e-01  1.71789162e-01  4.62442811e-01\n",
            "   2.50643291e+00  1.44971415e+00  0.00000000e+00  0.00000000e+00\n",
            "   2.78815666e-02 -2.50376169e-03  1.56138053e-02  1.00533634e-02\n",
            "  -6.92746957e-02]]\n"
          ]
        }
      ]
    },
    {
      "cell_type": "code",
      "source": [
        "## Step(5) cont. for only males.\n",
        "print(\"Accuracy\", LogReg.score(X_test, y_test))\n",
        "print(classification_report(y_test, LogReg.predict(X_test)))"
      ],
      "metadata": {
        "colab": {
          "base_uri": "https://localhost:8080/"
        },
        "id": "dchlcSu0R1Cg",
        "outputId": "cbe462bb-0058-4727-8cde-dbc61fcbfa42"
      },
      "execution_count": null,
      "outputs": [
        {
          "output_type": "stream",
          "name": "stdout",
          "text": [
            "Accuracy 0.942654028436019\n",
            "              precision    recall  f1-score   support\n",
            "\n",
            "           0       0.95      0.98      0.97      5522\n",
            "           1       0.85      0.67      0.75       808\n",
            "\n",
            "    accuracy                           0.94      6330\n",
            "   macro avg       0.90      0.83      0.86      6330\n",
            "weighted avg       0.94      0.94      0.94      6330\n",
            "\n"
          ]
        }
      ]
    },
    {
      "cell_type": "markdown",
      "source": [
        "Explanation of Classification Report:\n",
        "\n",
        "The report of the model for males only shows that the precision is 0.95, the recall is 0.98, and the F1-score is 0.97. This decimals mean several things about the overall effectiveness of the model. The precision being 0.95 means that all the males that were predicted to have diabetes divided by all the males who actually have diabetes is 0.95. Conversely, the recall says that all the males who actually have diabetes divided by all the males who were predicted to have diabetes is 0.98. Finally, the F1-score of the model being 0.97 shows that the model itsel is 97% accurate."
      ],
      "metadata": {
        "id": "1F4MEiWYm9cT"
      }
    },
    {
      "cell_type": "code",
      "source": [
        "## Step (6) confusion matrix for only males.\n",
        "conf_mat = confusion_matrix(y_test, y_prediction)\n",
        "conf_mat\n",
        "\n",
        "# Setting up the plot\n",
        "categories = [0,1]\n",
        "fig, axis = plt.subplots()\n",
        "plt.xticks([0,1], categories)\n",
        "plt.yticks([0,1], categories)\n",
        "\n",
        "# Heatmap\n",
        "sns.heatmap(pd.DataFrame(conf_mat), annot=True, cmap='YlGnBu', fmt='g')\n",
        "axis.xaxis.set_label_position('top')\n",
        "plt.tight_layout()\n",
        "plt.title('Confusion Matrix for Males')\n",
        "plt.ylabel('Actual Label')\n",
        "plt.xlabel('Predicted Label')\n",
        "\n"
      ],
      "metadata": {
        "colab": {
          "base_uri": "https://localhost:8080/",
          "height": 543
        },
        "id": "SHG7DJYRR-45",
        "outputId": "77e25753-379c-402a-9ee0-9de3887f10a5"
      },
      "execution_count": null,
      "outputs": [
        {
          "output_type": "execute_result",
          "data": {
            "text/plain": [
              "Text(0.5, 427.9555555555555, 'Predicted Label')"
            ]
          },
          "metadata": {},
          "execution_count": 12
        },
        {
          "output_type": "display_data",
          "data": {
            "text/plain": [
              "<Figure size 640x480 with 2 Axes>"
            ],
            "image/png": "[encoded data removed]"
          },
          "metadata": {}
        }
      ]
    },
    {
      "cell_type": "markdown",
      "source": [
        "$False Positive Rate = \\frac{FP}{FP+TN} = \\frac{96}{96+5426}=0.017$\n",
        "\n",
        "---\n",
        "$True Positive Rate = \\frac{TP}{TP+FN} = \\frac{541}{541+267}=0.67$\n",
        "\n",
        "---\n",
        "\n",
        "\n",
        "\n",
        "\n",
        "\n",
        "# Confusion Matrix for Males Only\n",
        "\n",
        "---\n",
        "\n",
        "\n",
        "\n",
        "The Confusion Matrix of our model for males only shows several things. First, it tells us that for the 5,552 males who did not have diabetes, the model predicted that 5,426 of them would not have diabetes and 96 of them would have diabetes. Next, it tells us that for the 808 males who did have diabetes, the model predicted that 267 of them do have diabetes and 541 of them do not. From these sections, we can calculate a False Positive Rate of 0.017 and a True Positive Rate of 0.67. Essentially, this shows that our model is generally accurate at predicting for males who do not have diabetes, but poor at predicting for males who do have diabetes."
      ],
      "metadata": {
        "id": "qaQ0j7pYZOzQ"
      }
    },
    {
      "cell_type": "code",
      "source": [
        "## Step (4) for only females.\n",
        "df_female = diabetes_df[diabetes_df['gender_Female']==True]\n",
        "X = df_female.drop(\"diabetes\",axis=1)\n",
        "y = df_female.diabetes\n",
        "X_train,X_test,y_train,y_test=train_test_split(X,y,test_size=0.25,random_state=0)\n",
        "LogReg = LogisticRegression()\n",
        "\n",
        "\n",
        "scaler = preprocessing.StandardScaler()\n",
        "X_train = scaler.fit_transform(X_train)\n",
        "X_test = scaler.transform(X_test)\n",
        "\n",
        "LogReg.fit(X_train,y_train)\n",
        "\n",
        "\n",
        "y_prediction=LogReg.predict(X_test)"
      ],
      "metadata": {
        "id": "QTovT2V7SF3x"
      },
      "execution_count": null,
      "outputs": []
    },
    {
      "cell_type": "code",
      "source": [
        "## Step (5) for only females.\n",
        "print('Classes', LogReg.classes_)\n",
        "print('Intercept',LogReg.intercept_)\n",
        "print(\"Coefficients\", LogReg.coef_ )"
      ],
      "metadata": {
        "colab": {
          "base_uri": "https://localhost:8080/"
        },
        "id": "WbiCkx37SRwJ",
        "outputId": "404415e3-acef-4901-953a-183e3d53f752"
      },
      "execution_count": null,
      "outputs": [
        {
          "output_type": "stream",
          "name": "stdout",
          "text": [
            "Classes [0 1]\n",
            "Intercept [-4.90256703]\n",
            "Coefficients [[ 0.94411602  0.22336461  0.1331324   0.65385375  2.51782066  1.36351867\n",
            "   0.          0.          0.05042323  0.03520529 -0.02745119 -0.02783028\n",
            "  -0.00847928]]\n"
          ]
        }
      ]
    },
    {
      "cell_type": "code",
      "source": [
        "## Step (5) cont. for only females.\n",
        "print(\"Accuracy\", LogReg.score(X_test, y_test))\n",
        "print(classification_report(y_test, LogReg.predict(X_test)))"
      ],
      "metadata": {
        "colab": {
          "base_uri": "https://localhost:8080/"
        },
        "id": "gPs9qERWSTq_",
        "outputId": "071455bd-ba2f-4e3b-b86d-131df4bc086d"
      },
      "execution_count": null,
      "outputs": [
        {
          "output_type": "stream",
          "name": "stdout",
          "text": [
            "Accuracy 0.9552146607639246\n",
            "              precision    recall  f1-score   support\n",
            "\n",
            "           0       0.96      0.99      0.98      8807\n",
            "           1       0.87      0.61      0.72       906\n",
            "\n",
            "    accuracy                           0.96      9713\n",
            "   macro avg       0.91      0.80      0.85      9713\n",
            "weighted avg       0.95      0.96      0.95      9713\n",
            "\n"
          ]
        }
      ]
    },
    {
      "cell_type": "markdown",
      "source": [
        "Explanation of Classification Report:\n",
        "\n",
        "The report of the model for females only shows that the precision is 0.96, the recall is 0.99, and the F1-score is 0.98. The precision being 0.96 means that all the females that were predicted to have diabetes divided by all the males who actually have diabetes is 0.96. In other words, the proportion of predicted females to have diabetes over the actual amount of females to have diabetes is 0.96. Conversely, the recall says that all the males who actually have diabetes divided by all the males who were predicted to have diabetes is 0.99. Again,this tells us that the proportion of actual females to have diabetes over the predicted amount of females to have diabetes is 0.99. Finally, the F1-score of the model being 0.98 shows that the model itsel is 98% accurate."
      ],
      "metadata": {
        "id": "L9106gbNo3mb"
      }
    },
    {
      "cell_type": "code",
      "source": [
        "## Step (6) for only females.\n",
        "conf_mat = confusion_matrix(y_test, y_prediction)\n",
        "conf_mat\n",
        "\n",
        "# Setting up the plot\n",
        "categories = [0,1]\n",
        "fig, axis = plt.subplots()\n",
        "plt.xticks([0,1], categories)\n",
        "plt.yticks([0,1], categories)\n",
        "\n",
        "# Heatmap\n",
        "sns.heatmap(pd.DataFrame(conf_mat), annot=True, cmap='YlGnBu', fmt='g')\n",
        "axis.xaxis.set_label_position('top')\n",
        "plt.tight_layout()\n",
        "plt.title('Confusion Matrix for Females')\n",
        "plt.ylabel('Actual Label')\n",
        "plt.xlabel('Predicted Label')"
      ],
      "metadata": {
        "colab": {
          "base_uri": "https://localhost:8080/",
          "height": 543
        },
        "id": "Hgty1tqbST1i",
        "outputId": "90044f76-f74e-44cd-c29a-551169db3555"
      },
      "execution_count": null,
      "outputs": [
        {
          "output_type": "execute_result",
          "data": {
            "text/plain": [
              "Text(0.5, 427.9555555555555, 'Predicted Label')"
            ]
          },
          "metadata": {},
          "execution_count": 16
        },
        {
          "output_type": "display_data",
          "data": {
            "text/plain": [
              "<Figure size 640x480 with 2 Axes>"
            ],
            "image/png": "[encoded data removed]"
          },
          "metadata": {}
        }
      ]
    },
    {
      "cell_type": "markdown",
      "source": [
        "\n",
        "$False Positive Rate = \\frac{FP}{FP+TN} = \\frac{85}{85+8722}=0.01$\n",
        "\n",
        "\n",
        "---\n",
        "\n",
        "\n",
        "$True Positive Rate = \\frac{TP}{TP+FN} = \\frac{541}{541+267}=0.67$\n",
        "\n",
        "---\n",
        "\n",
        "# Confusion Matrix for Females Only\n",
        "\n",
        "The Confusion Matrix of our model for females only shows several things. First, it tells us that for the 8,807 females who did not have diabetes, the model predicted that 8,722 of them would not have diabetes and 85 of them would have diabetes. Next, it tells us that for the 906 females who did have diabetes, the model predicted that 350 of them do not have diabetes and 556 of them do. From these sections, we can calculate a False Positive Rate of 0.01 and a True Positive Rate of 0.67. Essentially, this shows that our model is generally accurate at predicting for females who do not have diabetes, but poor at predicting for females who do have diabetes."
      ],
      "metadata": {
        "id": "LtNjua7B_QmY"
      }
    },
    {
      "cell_type": "code",
      "source": [
        "## Step (4) for people aged 0 to 25 years old.\n",
        "df_ages_0_to_25 = diabetes_df[diabetes_df['age']<25]\n",
        "X = df_ages_0_to_25.drop(\"diabetes\",axis=1)\n",
        "y = df_ages_0_to_25.diabetes\n",
        "X_train,X_test,y_train,y_test=train_test_split(X,y,test_size=0.25,random_state=0)\n",
        "LogReg = LogisticRegression()\n",
        "\n",
        "\n",
        "scaler = preprocessing.StandardScaler()\n",
        "X_train = scaler.fit_transform(X_train)\n",
        "X_test = scaler.transform(X_test)\n",
        "\n",
        "LogReg.fit(X_train,y_train)\n",
        "\n",
        "\n",
        "y_pred=LogReg.predict(X_test)"
      ],
      "metadata": {
        "id": "Kf2oSOmzSqs4"
      },
      "execution_count": null,
      "outputs": []
    },
    {
      "cell_type": "code",
      "source": [
        "## Step (5) for ages 0 to 25.\n",
        "print('Classes', LogReg.classes_)\n",
        "print('Intercept',LogReg.intercept_)\n",
        "print(\"Coefficients\", LogReg.coef_ )"
      ],
      "metadata": {
        "colab": {
          "base_uri": "https://localhost:8080/"
        },
        "id": "7ePHMt4UTRl0",
        "outputId": "28b238c3-3ca9-4b5f-e05e-7221fe5406b0"
      },
      "execution_count": null,
      "outputs": [
        {
          "output_type": "stream",
          "name": "stdout",
          "text": [
            "Classes [0 1]\n",
            "Intercept [-8.26902683]\n",
            "Coefficients [[ 0.42172221 -0.20539118 -0.03710373 -0.12761522  3.0098809   1.39534481\n",
            "  -0.05895587  0.05895587 -0.04700762  0.09363934 -0.48283303  0.02053403\n",
            "   0.24685301]]\n"
          ]
        }
      ]
    },
    {
      "cell_type": "code",
      "source": [
        "## Step (5) cont. for ages 0 to 25.\n",
        "print(\"Accuracy\", LogReg.score(X_test, y_test))\n",
        "print(classification_report(y_test, LogReg.predict(X_test)))"
      ],
      "metadata": {
        "colab": {
          "base_uri": "https://localhost:8080/"
        },
        "id": "-hZV4RDgTRo6",
        "outputId": "9eb1fc37-4479-4090-ae48-17151a0c844d"
      },
      "execution_count": null,
      "outputs": [
        {
          "output_type": "stream",
          "name": "stdout",
          "text": [
            "Accuracy 0.9932243921881228\n",
            "              precision    recall  f1-score   support\n",
            "\n",
            "           0       0.99      1.00      1.00      2477\n",
            "           1       1.00      0.47      0.64        32\n",
            "\n",
            "    accuracy                           0.99      2509\n",
            "   macro avg       1.00      0.73      0.82      2509\n",
            "weighted avg       0.99      0.99      0.99      2509\n",
            "\n"
          ]
        }
      ]
    },
    {
      "cell_type": "markdown",
      "source": [
        "Explanation of Classification Report:\n",
        "\n",
        "The report of the model for peoples ages 0 to 25 shows that the precision is 0.99, the recall is 1.00, and the F1-score is 1.00. The precision being 0.99 means that people ages 0 to 25 that were predicted to have diabetes divided by all people ages 0 to 25 who actually have diabetes is 0.99. In other words, the proportion of predicted individuals ages 0 to 25 to have diabetes over the actual amount of individuals ages 0 to 25 to have diabetes is 0.99. Conversely, the recall says that all people in the age group who actually have diabetes divided by all the people in the age group who were predicted to have diabetes is 1.00. Again,this tells us that the proportion of actual individuals ages 0 to 25 to have diabetes over the predicted amount of individuals ages 0 to 25 to have diabetes is 1.00. Finally, the F1-score of the model being 1.00 shows that the model itsel is 100% accurate."
      ],
      "metadata": {
        "id": "t79aT4zypjfk"
      }
    },
    {
      "cell_type": "code",
      "source": [
        "## Step (6) for ages 0 to 25.\n",
        "conf_mat = confusion_matrix(y_test, y_pred)\n",
        "conf_mat\n",
        "\n",
        "# Setting up the plot\n",
        "categories = [0,1]\n",
        "fig, axis = plt.subplots()\n",
        "plt.xticks([0,1], categories)\n",
        "plt.yticks([0,1], categories)\n",
        "\n",
        "# Heatmap\n",
        "sns.heatmap(pd.DataFrame(conf_mat), annot=True, cmap='YlGnBu', fmt='g')\n",
        "axis.xaxis.set_label_position('top')\n",
        "plt.tight_layout()\n",
        "plt.title('Confusion Matrix for People Ages 0 - 25')\n",
        "plt.ylabel('Actual Label')\n",
        "plt.xlabel('Predicted Label')"
      ],
      "metadata": {
        "colab": {
          "base_uri": "https://localhost:8080/",
          "height": 543
        },
        "id": "hf8gJVixTOxV",
        "outputId": "6e017961-d1e1-444e-95ab-11e64eadb534"
      },
      "execution_count": null,
      "outputs": [
        {
          "output_type": "execute_result",
          "data": {
            "text/plain": [
              "Text(0.5, 427.9555555555555, 'Predicted Label')"
            ]
          },
          "metadata": {},
          "execution_count": 20
        },
        {
          "output_type": "display_data",
          "data": {
            "text/plain": [
              "<Figure size 640x480 with 2 Axes>"
            ],
            "image/png": "[encoded data removed]"
          },
          "metadata": {}
        }
      ]
    },
    {
      "cell_type": "markdown",
      "source": [
        "$False Positive Rate = \\frac{FP}{FP+TN} = \\frac{0}{0+2477}=0.0$\n",
        "\n",
        "---\n",
        "\n",
        "\n",
        "$True Positive Rate = \\frac{TP}{TP+FN} = \\frac{15}{15+17}=0.47$\n",
        "\n",
        "\n",
        "---\n",
        "\n",
        "\n",
        "\n",
        "\n",
        "# Confusion Matrix for Individuals Ages 0 to 25 Only\n",
        "\n",
        "The Confusion Matrix of our model for individuals 0 to 25 only shows several things. First, it tells us that for the 2,477 individuals in the age group who did not have diabetes, the model predicted that 2,477 of them would not have diabetes and 0 of them would have diabetes. Next, it tells us that for the 32 individuals in the age group who did have diabetes, the model predicted that 17 of them do not have diabetes and 15 of them do. From these sections, we can calculate a False Positive Rate of 0.0, and a True Positive Rate of 0.47. Essentially, this shows that our model is perfect at predicting for individuals ages 0 to 25 who do not have diabetes, but not accurate at predicting those in the age group who do have diabetes."
      ],
      "metadata": {
        "id": "jgVuZHE9_h6s"
      }
    },
    {
      "cell_type": "code",
      "source": [
        "## Step (4) for ages 25 to 50\n",
        "df_ages_25_to_50 = diabetes_df[(diabetes_df['age'] >= 25) & (diabetes_df['age'] < 50)]\n",
        "X = df_ages_25_to_50.drop(\"diabetes\", axis=1)\n",
        "y = df_ages_25_to_50.diabetes\n",
        "X_train,X_test,y_train,y_test=train_test_split(X,y,test_size=0.25,random_state=0)\n",
        "LogReg = LogisticRegression()\n",
        "\n",
        "\n",
        "scaler = preprocessing.StandardScaler()\n",
        "X_train = scaler.fit_transform(X_train)\n",
        "X_test = scaler.transform(X_test)\n",
        "\n",
        "LogReg.fit(X_train,y_train)\n",
        "\n",
        "\n",
        "y_pred=LogReg.predict(X_test)"
      ],
      "metadata": {
        "id": "AhjxMfVFTds9"
      },
      "execution_count": null,
      "outputs": []
    },
    {
      "cell_type": "code",
      "source": [
        "## Step (5) for ages 25 to 50.\n",
        "print('Classes', LogReg.classes_)\n",
        "print('Intercept',LogReg.intercept_)\n",
        "print(\"Coefficients\", LogReg.coef_ )"
      ],
      "metadata": {
        "colab": {
          "base_uri": "https://localhost:8080/"
        },
        "id": "Wc5rfkjeTd2p",
        "outputId": "4b6c322a-a3d1-4e7c-ef8d-c426f8c988db"
      },
      "execution_count": null,
      "outputs": [
        {
          "output_type": "stream",
          "name": "stdout",
          "text": [
            "Classes [0 1]\n",
            "Intercept [-5.62563969]\n",
            "Coefficients [[ 0.45287716  0.22811599  0.14091486  0.53647978  2.52546128  1.24880723\n",
            "  -0.06616338  0.06616338  0.02508292  0.0680861  -0.04083221 -0.03764877\n",
            "   0.01324361]]\n"
          ]
        }
      ]
    },
    {
      "cell_type": "code",
      "source": [
        "## Step (5) cont. for ages 25 to 50.\n",
        "print(\"Accuracy\", LogReg.score(X_test, y_test))\n",
        "print(classification_report(y_test, LogReg.predict(X_test)))"
      ],
      "metadata": {
        "colab": {
          "base_uri": "https://localhost:8080/"
        },
        "id": "h8PggDAYTd-e",
        "outputId": "c2370ed9-b6e3-4f9f-c63a-20cf43df26fe"
      },
      "execution_count": null,
      "outputs": [
        {
          "output_type": "stream",
          "name": "stdout",
          "text": [
            "Accuracy 0.9694008330663249\n",
            "              precision    recall  f1-score   support\n",
            "\n",
            "           0       0.97      1.00      0.98      5905\n",
            "           1       0.90      0.49      0.63       337\n",
            "\n",
            "    accuracy                           0.97      6242\n",
            "   macro avg       0.94      0.74      0.81      6242\n",
            "weighted avg       0.97      0.97      0.97      6242\n",
            "\n"
          ]
        }
      ]
    },
    {
      "cell_type": "markdown",
      "source": [
        "Explanation of Classification Report:\n",
        "\n",
        "The report of the model for peoples ages 25 to 50 shows that the precision is 0.97, the recall is 1.00, and the F1-score is 0.98 The precision being 0.97 means that people ages 25 to 50 that were predicted to have diabetes divided by all people ages 25 to 50 who actually have diabetes is 1.00. In other words, the proportion of predicted individuals ages 25 to 50 to have diabetes over the actual amount of individuals ages 25 to 50 to have diabetes is 0.97. Conversely, the recall says that all people in the age group who actually have diabetes divided by all the people in the age group who were predicted to have diabetes is 1.00. Again, this tells us that the proportion of actual individuals ages 25 to 50 to have diabetes over the predicted amount of individuals ages 25 to 50 to have diabetes is 1.00. Finally, the F1-score of the model being 0.98 shows that the model itsel is 98% accurate."
      ],
      "metadata": {
        "id": "b_7m8VSBqTJH"
      }
    },
    {
      "cell_type": "code",
      "source": [
        "## Step (6) for ages 25 to 50.\n",
        "conf_mat = confusion_matrix(y_test, y_pred)\n",
        "conf_mat\n",
        "\n",
        "# Setting up the plot\n",
        "categories = [0,1]\n",
        "fig, axis = plt.subplots()\n",
        "plt.xticks([0,1], categories)\n",
        "plt.yticks([0,1], categories)\n",
        "\n",
        "# Heatmap\n",
        "sns.heatmap(pd.DataFrame(conf_mat), annot=True, cmap='YlGnBu', fmt='g')\n",
        "axis.xaxis.set_label_position('top')\n",
        "plt.tight_layout()\n",
        "plt.title('Confusion Matrix for People Ages 25 - 50')\n",
        "plt.ylabel('Actual Label')\n",
        "plt.xlabel('Predicted Label')"
      ],
      "metadata": {
        "colab": {
          "base_uri": "https://localhost:8080/",
          "height": 543
        },
        "id": "YObSXtBqTeGF",
        "outputId": "015b9584-688c-4581-cd38-dfdaa1608242"
      },
      "execution_count": null,
      "outputs": [
        {
          "output_type": "execute_result",
          "data": {
            "text/plain": [
              "Text(0.5, 427.9555555555555, 'Predicted Label')"
            ]
          },
          "metadata": {},
          "execution_count": 24
        },
        {
          "output_type": "display_data",
          "data": {
            "text/plain": [
              "<Figure size 640x480 with 2 Axes>"
            ],
            "image/png": "[encoded data removed]"
          },
          "metadata": {}
        }
      ]
    },
    {
      "cell_type": "markdown",
      "source": [
        "$False Positive Rate = \\frac{FP}{FP+TN} = \\frac{18}{18+5887}=0.003$\n",
        "\n",
        "---\n",
        "$True Positive Rate = \\frac{TP}{TP+FN} = \\frac{164}{164+173}=0.49$\n",
        "\n",
        "\n",
        "---\n",
        "\n",
        "\n",
        "\n",
        "\n",
        "# Confusion Matrix for Individuals Ages 25 to 50 Only\n",
        "\n",
        "The Confusion Matrix of our model for individuals in the age only shows several things. First, it tells us that for the 5,905 individuals in the age group who did not have diabetes, the model predicted that 5,887 of them would not have diabetes and 18 of them would have diabetes. Next, it tells us that for the 337 individuals in the age group who do have diabetes, the model predicted that 173 of them do not have diabetes and 164 of them do. From these sections, we can calculate a False Positive Rate of 0.003, and a True Positive Rate of 0.49. Essentially, this shows that our model is very good at predicting for individuals in the age group who do not have diabetes, but not accurate at predicting those in the age group who do have diabetes.  "
      ],
      "metadata": {
        "id": "DZQQM_qC_sAR"
      }
    },
    {
      "cell_type": "code",
      "source": [
        "## Step (4) for ages 50 to 75\n",
        "df_ages_50_to_75 = diabetes_df[(diabetes_df['age'] >= 50) & (diabetes_df['age'] < 75)]\n",
        "X = df_ages_50_to_75.drop(\"diabetes\", axis=1)\n",
        "y = df_ages_50_to_75.diabetes\n",
        "X_train,X_test,y_train,y_test=train_test_split(X,y,test_size=0.25,random_state=0)\n",
        "LogReg = LogisticRegression()\n",
        "\n",
        "\n",
        "scaler = preprocessing.StandardScaler()\n",
        "X_train = scaler.fit_transform(X_train)\n",
        "X_test = scaler.transform(X_test)\n",
        "\n",
        "LogReg.fit(X_train,y_train)\n",
        "\n",
        "\n",
        "y_pred=LogReg.predict(X_test)"
      ],
      "metadata": {
        "id": "t98KZzerUTnC"
      },
      "execution_count": null,
      "outputs": []
    },
    {
      "cell_type": "code",
      "source": [
        "## Step (5) for ages 50 to 75.\n",
        "print('Classes', LogReg.classes_)\n",
        "print('Intercept',LogReg.intercept_)\n",
        "print(\"Coefficients\", LogReg.coef_ )"
      ],
      "metadata": {
        "colab": {
          "base_uri": "https://localhost:8080/"
        },
        "id": "GfNb1SZaUTrE",
        "outputId": "cb00497f-4528-482a-b6bf-fbfff851764f"
      },
      "execution_count": null,
      "outputs": [
        {
          "output_type": "stream",
          "name": "stdout",
          "text": [
            "Classes [0 1]\n",
            "Intercept [-3.21164833]\n",
            "Coefficients [[ 0.35682344  0.25535286  0.19374521  0.59975079  2.61858589  1.48547592\n",
            "  -0.07157464  0.07157464  0.04586583  0.03796539 -0.01375427 -0.03050323\n",
            "  -0.0155131 ]]\n"
          ]
        }
      ]
    },
    {
      "cell_type": "code",
      "source": [
        "## Step (5) cont. for ages 50 to 75.\n",
        "print(\"Accuracy\", LogReg.score(X_test, y_test))\n",
        "print(classification_report(y_test, LogReg.predict(X_test)))"
      ],
      "metadata": {
        "colab": {
          "base_uri": "https://localhost:8080/"
        },
        "id": "eSEkYp_0UTvV",
        "outputId": "5f8a198b-1785-422b-fa68-6b7df713aa7f"
      },
      "execution_count": null,
      "outputs": [
        {
          "output_type": "stream",
          "name": "stdout",
          "text": [
            "Accuracy 0.9175564502012953\n",
            "              precision    recall  f1-score   support\n",
            "\n",
            "           0       0.93      0.98      0.95      4637\n",
            "           1       0.87      0.66      0.75      1076\n",
            "\n",
            "    accuracy                           0.92      5713\n",
            "   macro avg       0.90      0.82      0.85      5713\n",
            "weighted avg       0.92      0.92      0.91      5713\n",
            "\n"
          ]
        }
      ]
    },
    {
      "cell_type": "markdown",
      "source": [
        "Explanation of Classification Report:\n",
        "\n",
        "The report of the model for peoples ages 50 to 75 shows that the precision is 0.93, the recall is 0.98, and the F1-score is 0.95. The precision being 0.93 means that people ages 50 to 75 that were predicted to have diabetes divided by all people ages 50 to 75 who actually have diabetes is 0.93. In other words, the proportion of predicted individuals ages 50 to 75 to have diabetes over the actual amount of individuals ages 50 to 75 to have diabetes is 0.93. Conversely, the recall says that all people in the age group who actually have diabetes divided by all the people in the age group who were predicted to have diabetes is 0.98. Again,this tells us that the proportion of actual individuals ages 50 to 75 to have diabetes over the predicted amount of individuals ages 50 to 75 to have diabetes is 0.98. Finally, the F1-score of the model being 0.95 shows that the model itsel is 95% accurate."
      ],
      "metadata": {
        "id": "q0FgMtMdqxB3"
      }
    },
    {
      "cell_type": "code",
      "source": [
        "## Step (6) for ages 50 to 75.\n",
        "conf_mat = confusion_matrix(y_test, y_pred)\n",
        "conf_mat\n",
        "\n",
        "# Setting up the plot\n",
        "categories = [0,1]\n",
        "fig, axis = plt.subplots()\n",
        "plt.xticks([0,1], categories)\n",
        "plt.yticks([0,1], categories)\n",
        "\n",
        "# Heatmap\n",
        "sns.heatmap(pd.DataFrame(conf_mat), annot=True, cmap='YlGnBu', fmt='g')\n",
        "axis.xaxis.set_label_position('top')\n",
        "plt.tight_layout()\n",
        "plt.title('Confusion Matrix for People Ages 50 - 75')\n",
        "plt.ylabel('Actual Label')\n",
        "plt.xlabel('Predicted Label')"
      ],
      "metadata": {
        "colab": {
          "base_uri": "https://localhost:8080/",
          "height": 541
        },
        "id": "0nwyBmIaUT8O",
        "outputId": "99be1d19-5c1a-4c96-bb0f-2abade31d47c"
      },
      "execution_count": null,
      "outputs": [
        {
          "output_type": "execute_result",
          "data": {
            "text/plain": [
              "Text(0.5, 427.9555555555555, 'Predicted Label')"
            ]
          },
          "metadata": {},
          "execution_count": 28
        },
        {
          "output_type": "display_data",
          "data": {
            "text/plain": [
              "<Figure size 640x480 with 2 Axes>"
            ],
            "image/png": "[encoded data removed]"
          },
          "metadata": {}
        }
      ]
    },
    {
      "cell_type": "markdown",
      "source": [
        "$False Positive Rate = \\frac{FP}{FP+TN} = \\frac{105}{105+4532}=0.023$\n",
        "\n",
        "---\n",
        "$True Positive Rate = \\frac{TP}{TP+FN} = \\frac{710}{710+366}=0.66$\n",
        "\n",
        "\n",
        "---\n",
        "\n",
        "\n",
        "\n",
        "\n",
        "# Confusion Matrix for Individuals Ages 50 to 75 Only\n",
        "\n",
        "The Confusion Matrix of our model for males only shows several things. First, it tells us that for the 4,637 individuals in the age group who did not have diabetes, the model predicted that 4,637 of them would not have diabetes and 105 of them would have diabetes. Next, it tells us that for the 1076 individuals in the age group who do have diabetes, the model predicted that 366 of them do not have diabetes and 710 of them do. From these sections, we can calculate a False Positive Rate of 0.023, and a True Positive Rate of 0.66. Essentially, this shows that our model is good at predicting for individuals in the age group who do not have diabetes, but not accurate at predicting those in the age group who do have diabetes."
      ],
      "metadata": {
        "id": "KUIRm9Dw_2J1"
      }
    },
    {
      "cell_type": "code",
      "source": [
        "## Step (4) for ages 75 to 80 (max age)\n",
        "df_ages_75_to_80 = diabetes_df[(diabetes_df['age'] >= 75) & (diabetes_df['age'] < 80)]\n",
        "X = df_ages_75_to_80.drop(\"diabetes\", axis=1)\n",
        "y = df_ages_75_to_80.diabetes\n",
        "X_train,X_test,y_train,y_test=train_test_split(X,y,test_size=0.25,random_state=0)\n",
        "LogReg = LogisticRegression()\n",
        "\n",
        "\n",
        "scaler = preprocessing.StandardScaler()\n",
        "X_train = scaler.fit_transform(X_train)\n",
        "X_test = scaler.transform(X_test)\n",
        "\n",
        "LogReg.fit(X_train,y_train)\n",
        "\n",
        "\n",
        "y_pred=LogReg.predict(X_test)"
      ],
      "metadata": {
        "id": "rDOpv-21U8td"
      },
      "execution_count": null,
      "outputs": []
    },
    {
      "cell_type": "code",
      "source": [
        "## Step (5) for ages 75 to 80.\n",
        "print('Classes', LogReg.classes_)\n",
        "print('Intercept',LogReg.intercept_)\n",
        "print(\"Coefficients\", LogReg.coef_ )"
      ],
      "metadata": {
        "colab": {
          "base_uri": "https://localhost:8080/"
        },
        "id": "7dkkLj_zU8z-",
        "outputId": "3552d4f2-92e8-4a15-fc3c-5a57d38bae3b"
      },
      "execution_count": null,
      "outputs": [
        {
          "output_type": "stream",
          "name": "stdout",
          "text": [
            "Classes [0 1]\n",
            "Intercept [-2.36825706]\n",
            "Coefficients [[ 3.12862236e-03  3.19945163e-01  3.69392829e-01  5.39658129e-01\n",
            "   2.59913910e+00  1.61024131e+00  3.68109878e-02 -3.68109878e-02\n",
            "   7.88072337e-02  2.34129098e-02  8.08374128e-02 -1.18300850e-03\n",
            "  -1.83819726e-01]]\n"
          ]
        }
      ]
    },
    {
      "cell_type": "code",
      "source": [
        "## Step (5) cont. for ages 75 to 80.\n",
        "print(\"Accuracy\", LogReg.score(X_test, y_test))\n",
        "print(classification_report(y_test, LogReg.predict(X_test)))"
      ],
      "metadata": {
        "colab": {
          "base_uri": "https://localhost:8080/"
        },
        "id": "X_xFCiiaU87P",
        "outputId": "e178e452-a0b1-4d1d-c753-a98309a12614"
      },
      "execution_count": null,
      "outputs": [
        {
          "output_type": "stream",
          "name": "stdout",
          "text": [
            "Accuracy 0.88\n",
            "              precision    recall  f1-score   support\n",
            "\n",
            "           0       0.90      0.95      0.92       469\n",
            "           1       0.81      0.68      0.74       156\n",
            "\n",
            "    accuracy                           0.88       625\n",
            "   macro avg       0.85      0.81      0.83       625\n",
            "weighted avg       0.88      0.88      0.88       625\n",
            "\n"
          ]
        }
      ]
    },
    {
      "cell_type": "markdown",
      "source": [
        "Explanation of Classification Report:\n",
        "\n",
        "The report of the model for peoples ages 0 to 25 shows that the precision is 0.90, the recall is 0.95, and the F1-score is 0.92. The precision being 0.90 means that people ages 75 to 80 that were predicted to have diabetes divided by all people ages 75 to 80 who actually have diabetes is 0.90. In other words, the proportion of predicted individuals ages 75 to 80 to have diabetes over the actual amount of individuals ages 75 to 80 to have diabetes is 0.90. Conversely, the recall says that all people in the age group who actually have diabetes divided by all the people in the age group who were predicted to have diabetes is 0.95. Again,this tells us that the proportion of actual individuals ages 75 to 80 to have diabetes over the predicted amount of individuals ages 75 to 80 to have diabetes is 0.95. Finally, the F1-score of the model being 0.92 shows that the model itsel is 92% accurate."
      ],
      "metadata": {
        "id": "fNIqkEXTrKUa"
      }
    },
    {
      "cell_type": "code",
      "source": [
        "## Step (6) for ages 75 to 80.\n",
        "conf_mat = confusion_matrix(y_test, y_pred)\n",
        "conf_mat\n",
        "\n",
        "# Setting up the plot\n",
        "categories = [0,1]\n",
        "fig, axis = plt.subplots()\n",
        "plt.xticks([0,1], categories)\n",
        "plt.yticks([0,1], categories)\n",
        "\n",
        "# Heatmap\n",
        "sns.heatmap(pd.DataFrame(conf_mat), annot=True, cmap='YlGnBu', fmt='g')\n",
        "axis.xaxis.set_label_position('top')\n",
        "plt.tight_layout()\n",
        "plt.title('Confusion Matrix for People Ages 75 - 80')\n",
        "plt.ylabel('Actual Label')\n",
        "plt.xlabel('Predicted Label')"
      ],
      "metadata": {
        "colab": {
          "base_uri": "https://localhost:8080/",
          "height": 543
        },
        "id": "yZw2s9u9U9BV",
        "outputId": "1998a59e-90ac-4dcb-887e-9eb89973d707"
      },
      "execution_count": null,
      "outputs": [
        {
          "output_type": "execute_result",
          "data": {
            "text/plain": [
              "Text(0.5, 427.9555555555555, 'Predicted Label')"
            ]
          },
          "metadata": {},
          "execution_count": 32
        },
        {
          "output_type": "display_data",
          "data": {
            "text/plain": [
              "<Figure size 640x480 with 2 Axes>"
            ],
            "image/png": "[encoded data removed]"
          },
          "metadata": {}
        }
      ]
    },
    {
      "cell_type": "markdown",
      "source": [
        "\n",
        "$False Positive Rate = \\frac{FP}{FP+TN} = \\frac{25}{25+444}=0.05$\n",
        "\n",
        "---\n",
        "$True Positive Rate = \\frac{TP}{TP+FN} = \\frac{106}{106+50}=0.68$\n",
        "\n",
        "---\n",
        "\n",
        "\n",
        "\n",
        "\n",
        "# Confusion Matrix for Individuals Ages 75 to 80 Only\n",
        "\n",
        "The Confusion Matrix of our model for Individual Ages 75 to 80 only shows several things. First, it tells us that for the 469 individuals in the age group who did not have diabetes, the model predicted that 444 of them would not have diabetes and 25 of them would have diabetes. Next, it tells us that for the 156 individuals in the age group who do have diabetes, the model predicted that 50 of them do not have diabetes and 106 of them do. From these sections, we can calculate a False Positive Rate of 0.05, and a True Positive Rate of 0.68. Essentially, this shows that our model is very good at predicting for individuals in the age group who do not have diabetes, but not accurate at predicting those in the age group who do have diabetes."
      ],
      "metadata": {
        "id": "3cWa4LDyACXA"
      }
    },
    {
      "cell_type": "markdown",
      "source": [
        "# **8. Fairness Analysis**"
      ],
      "metadata": {
        "id": "WO32Y4lOfCC_"
      }
    },
    {
      "cell_type": "markdown",
      "source": [
        "# Gender Specific Models\n",
        "\n",
        "Male Dataset:\n",
        "\n",
        "\n",
        "*  Precision: 0.95 for non-diabetics, indicating a high reliability in negative predictions.\n",
        "*  Recall: 0.98 for non-diabetics, suggesting the model is highly effective in identifying true negatives.\n",
        "*  F1-Score: High overall accuracy (0.97 for non-diabetics).\n",
        "*  False Positive Rate: 0.017, indicating very few males without diabetes are incorrectly predicted as diabetic.\n",
        "\n",
        "Female Dataset:\n",
        "\n",
        "\n",
        "*  Precision: 0.96 for non-diabetics, slightly higher than males.\n",
        "*  Recall: 0.99 for non-diabetics, indicating even better performance in identifying true negatives than the male model.\n",
        "*   F1-Score: Comparable high accuracy (0.98 for non-diabetics).\n",
        "*   False Positive Rate: 0.01, slightly lower than males, suggesting a better performance in avoiding incorrect diabetic predictions for females.\n",
        "\n",
        "\n",
        "\n",
        "\n",
        "\n"
      ],
      "metadata": {
        "id": "u0ADyhGcgntW"
      }
    },
    {
      "cell_type": "markdown",
      "source": [
        "# Age Specific Models\n",
        "\n",
        "Ages 0-25:\n",
        "\n",
        "\n",
        "*   Precision: Extremely high (0.99), but this is largely because the model hardly identifies any false positives.\n",
        "*   Recall: Perfect (1.00) for non-diabetics.\n",
        "*   F1-Score: Perfect (1.00) suggesting model is highly accurate within this age group.\n",
        "*   False Positive Rate: 0.0, indicating no false positives in this age group.\n",
        "\n",
        "Ages 25-50:\n",
        "\n",
        "\n",
        "*   Precision and recall are lower compared to the 0-25 age group, but still relatively high.\n",
        "*   F1-Score: High, but the recall for diabetics is only 0.49, showing a significant drop compared to the younger group.\n",
        "*   False Positive Rate: Very low (0.003), indicating very few incorrect positive predictions.\n",
        "\n",
        "Ages 50-75:\n",
        "\n",
        "\n",
        "*   Performance metrics are lower than in the younger groups but still robust.\n",
        "*   F1-Score and recall drop for diabetics (0.66).\n",
        "*   False Positive Rate increases to 0.023.\n",
        "\n",
        "Ages 75-100:\n",
        "\n",
        "\n",
        "*   Metrics indicate a decline, especially in recall for diabetics (0.68).\n",
        "*   False Positive Rate increases to 0.05.\n",
        "\n",
        "\n",
        "\n",
        "\n",
        "\n",
        "\n",
        "\n"
      ],
      "metadata": {
        "id": "_10TDlqMgyU-"
      }
    },
    {
      "cell_type": "markdown",
      "source": [
        "# Fairness Analysis\n",
        "\n",
        "Models for females generally have a slightly better false positive rate than those for males, potentially indicating a model bias where the algorithm is more conservative with predicting diabetes in females. The performance significantly varies with age, where younger groups (0-25) see much better performance metrics across all scores compared to older groups. This might suggest age-related bias where the model is less effective as the age increases, especially in terms of sensitivity, in this case recall, for true diabetic cases."
      ],
      "metadata": {
        "id": "hydck1EmjOFp"
      }
    },
    {
      "cell_type": "markdown",
      "source": [
        "# Implications for AI Fairness\n",
        "\n",
        "These differences necessitate adjustments in model training processes, perhaps through techniques like balanced sampling, customized feature engineering, or different model thresholds for different groups to ensure equitable performance across all demographics. Continuous monitoring of model performance across demographic groups is essential to ensure these biases do not result in unfair treatment of any group, particularly in sensitive applications like healthcare."
      ],
      "metadata": {
        "id": "vv13sLZXjYGB"
      }
    }
  ]
}
